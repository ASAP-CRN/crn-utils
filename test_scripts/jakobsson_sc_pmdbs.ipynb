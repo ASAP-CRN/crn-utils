{
 "cells": [
  {
   "cell_type": "markdown",
   "metadata": {},
   "source": [
    "ASAP CRN Metadata validation\n",
    "\n",
    "# Team Jakobsson. ASAP CRN Metadata validation\n",
    "8 Oct 2024 \n",
    "Andy Henrie\n",
    "\n",
    "\n"
   ]
  },
  {
   "cell_type": "code",
   "execution_count": 1,
   "metadata": {},
   "outputs": [
    {
     "name": "stdout",
     "output_type": "stream",
     "text": [
      "Streamlit NOT successfully imported\n"
     ]
    }
   ],
   "source": [
    "import pandas as pd\n",
    "from pathlib import Path\n",
    "import os, sys\n",
    "\n",
    "sys.path.append(os.path.abspath((os.path.join(os.getcwd(), 'src/crn_utils'))))\n",
    "\n",
    "from util import read_CDE, NULL, prep_table, read_meta_table, create_metadata_package\n",
    "from validate import validate_table, ReportCollector\n",
    "from update_schema import v1_to_v2, v2_to_v3_PMDBS, intervention_typer\n",
    "from checksums import extract_md5_from_details2, get_md5_hashes \n",
    "from bucket_util import authenticate_with_service_account, gsutil_ls, gsutil_cp, gsutil_mv \n",
    "\n",
    "%load_ext autoreload\n",
    "%autoreload 2\n",
    "\n",
    "root_path = Path.home() / (\"Projects/ASAP/data/teams\")\n"
   ]
  },
  {
   "cell_type": "markdown",
   "metadata": {},
   "source": [
    "## CDEs\n",
    "load the relavent CDEs"
   ]
  },
  {
   "cell_type": "code",
   "execution_count": 2,
   "metadata": {},
   "outputs": [
    {
     "name": "stdout",
     "output_type": "stream",
     "text": [
      "metadata_version: ASAP_CDE_v1\n",
      "https://docs.google.com/spreadsheets/d/1c0z5KvRELdT2AtQAH2Dus8kwAyyLrR0CROhKOjpU4Vc/gviz/tq?tqx=out:csv&sheet=v1\n",
      "/Users/ergonyc/Projects/ASAP/crn-utils/resource/CDE/ASAP_CDE_v1.csv\n",
      "read local file\n",
      "metadata_version: ASAP_CDE_v2.1\n",
      "https://docs.google.com/spreadsheets/d/1c0z5KvRELdT2AtQAH2Dus8kwAyyLrR0CROhKOjpU4Vc/gviz/tq?tqx=out:csv&sheet=v2.1\n",
      "/Users/ergonyc/Projects/ASAP/crn-utils/resource/CDE/ASAP_CDE_v2.1.csv\n",
      "read local file\n",
      "metadata_version: ASAP_CDE_v3.0\n",
      "https://docs.google.com/spreadsheets/d/1c0z5KvRELdT2AtQAH2Dus8kwAyyLrR0CROhKOjpU4Vc/gviz/tq?tqx=out:csv&sheet=v3.0\n",
      "/Users/ergonyc/Projects/ASAP/crn-utils/resource/CDE/ASAP_CDE_v3.0.csv\n",
      "read local file\n"
     ]
    }
   ],
   "source": [
    "schema_version = \"v1\"\n",
    "schema_path = Path.home() / \"Projects/ASAP/crn-utils/resource/CDE\"\n",
    "CDEv1 = read_CDE(schema_version, local_path=schema_path)\n",
    "schema_version = \"v2.1\"\n",
    "CDEv2 = read_CDE(schema_version, local_path=schema_path)\n",
    "schema_version = \"v3.0\"\n",
    "CDEv3 = read_CDE(schema_version, local_path=schema_path)"
   ]
  },
  {
   "cell_type": "markdown",
   "metadata": {},
   "source": [
    "> SANITY CHECK: verify reading from google doc works.\n",
    "\n",
    "```python\n",
    "CDEv1_ = read_CDE(\"v1\")\n",
    "CDEv2_ = read_CDE(\"v2.1\")\n",
    "CDEv3_ = read_CDE(\"v3.0\")\n",
    "```\n"
   ]
  },
  {
   "cell_type": "markdown",
   "metadata": {},
   "source": [
    "## Load original tables \n",
    "\n",
    "These were submitted as v2.1\n",
    "\n",
    "### Starting with v2.1 table"
   ]
  },
  {
   "cell_type": "code",
   "execution_count": 3,
   "metadata": {},
   "outputs": [],
   "source": [
    "## convert \n",
    "team = \"jakobsson\"\n",
    "dataset_name = \"sn-rnaseq\"\n",
    "\n",
    "metadata_path = root_path / f\"{team}/{dataset_name}/metadata/\"\n",
    "og_path = metadata_path / \"og\"\n",
    "\n",
    "metadata_version = \"v2.1\"\n",
    "METADATA_VERSION_DATE = f\"{metadata_version}_{pd.Timestamp.now().strftime('%Y%m%d')}\""
   ]
  },
  {
   "cell_type": "code",
   "execution_count": 4,
   "metadata": {},
   "outputs": [
    {
     "name": "stdout",
     "output_type": "stream",
     "text": [
      "recoding number_of_brain_samples as int\n",
      "All required fields are present in *STUDY* table.\n",
      "🚨⚠️❗ **Missing Optional Fields in STUDY: alternate_dataset_id**\n",
      "🚨⚠️❗ **6 Fields with empty (NULL) values:**\n",
      "\n",
      "\t- other_funding_source: 1/1 empty rows (REQUIRED)\n",
      "\n",
      "\t- publication_DOI: 1/1 empty rows (REQUIRED)\n",
      "\n",
      "\t- publication_PMID: 1/1 empty rows (REQUIRED)\n",
      "\n",
      "\t- PI_ORCHID: 1/1 empty rows (OPTIONAL)\n",
      "\n",
      "\t- PI_google_scholar_id: 1/1 empty rows (OPTIONAL)\n",
      "\n",
      "\t- preprocessing_references: 1/1 empty rows (OPTIONAL)\n",
      "No invalid entries found in Enum fields.\n",
      "\n",
      "All required fields are present in *PROTOCOL* table.\n",
      "🚨⚠️❗ **1 Fields with empty (NULL) values:**\n",
      "\n",
      "\t- sample_collection_summary: 1/1 empty rows (REQUIRED)\n",
      "No invalid entries found in Enum fields.\n",
      "\n",
      "recoding age_at_onset as int\n",
      "recoding age_at_diagnosis as int\n",
      "recoding first_motor_symptom as int\n",
      "All required fields are present in *SUBJECT* table.\n",
      "🚨⚠️❗ **21 Fields with empty (NULL) values:**\n",
      "\n",
      "\t- source_subject_id: 6/25 empty rows (REQUIRED)\n",
      "\n",
      "\t- AMPPD_id: 25/25 empty rows (REQUIRED)\n",
      "\n",
      "\t- GP2_id: 25/25 empty rows (REQUIRED)\n",
      "\n",
      "\t- biobank_name: 25/25 empty rows (REQUIRED)\n",
      "\n",
      "\t- race: 25/25 empty rows (REQUIRED)\n",
      "\n",
      "\t- ethnicity: 25/25 empty rows (REQUIRED)\n",
      "\n",
      "\t- family_history: 25/25 empty rows (REQUIRED)\n",
      "\n",
      "\t- last_diagnosis: 25/25 empty rows (REQUIRED)\n",
      "\n",
      "\t- age_at_onset: 25/25 empty rows (REQUIRED)\n",
      "\n",
      "\t- age_at_diagnosis: 17/25 empty rows (REQUIRED)\n",
      "\n",
      "\t- first_motor_symptom: 25/25 empty rows (REQUIRED)\n",
      "\n",
      "\t- hx_dementia_mci: 25/25 empty rows (REQUIRED)\n",
      "\n",
      "\t- hx_melanoma: 25/25 empty rows (REQUIRED)\n",
      "\n",
      "\t- education_level: 25/25 empty rows (REQUIRED)\n",
      "\n",
      "\t- smoking_status: 25/25 empty rows (REQUIRED)\n",
      "\n",
      "\t- smoking_years: 25/25 empty rows (OPTIONAL)\n",
      "\n",
      "\t- APOE_e4_status: 25/25 empty rows (REQUIRED)\n",
      "\n",
      "\t- cognitive_status: 25/25 empty rows (REQUIRED)\n",
      "\n",
      "\t- time_from_baseline: 25/25 empty rows (REQUIRED)\n",
      "\n",
      "\t- primary_diagnosis: 16/25 empty rows (REQUIRED)\n",
      "\n",
      "\t- primary_diagnosis_text: 25/25 empty rows (OPTIONAL)\n",
      "🚨⚠️❗ **1 Fields with invalid entries:**\n",
      "- _*age_at_diagnosis*_:  invalid values 💩'NA', '65.0', '67.0', '81.0', '68.0', '58.0', '73.0', '66.0'\n",
      "    - valid ➡️ int or NULL ('NA')\n",
      "\n",
      "All required fields are present in *CLINPATH* table.\n",
      "🚨⚠️❗ **33 Fields with empty (NULL) values:**\n",
      "\n",
      "\t- source_subject_id: 6/25 empty rows (REQUIRED)\n",
      "\n",
      "\t- duration_pmi: 7/25 empty rows (REQUIRED)\n",
      "\n",
      "\t- path_autopsy_second_dx: 25/25 empty rows (OPTIONAL)\n",
      "\n",
      "\t- path_autopsy_third_dx: 25/25 empty rows (OPTIONAL)\n",
      "\n",
      "\t- path_autopsy_fourth_dx: 25/25 empty rows (OPTIONAL)\n",
      "\n",
      "\t- path_autopsy_fifth_dx: 25/25 empty rows (OPTIONAL)\n",
      "\n",
      "\t- path_autopsy_sixth_dx: 25/25 empty rows (OPTIONAL)\n",
      "\n",
      "\t- path_autopsy_seventh_dx: 25/25 empty rows (OPTIONAL)\n",
      "\n",
      "\t- path_autopsy_eight_dx: 25/25 empty rows (OPTIONAL)\n",
      "\n",
      "\t- path_year_death: 25/25 empty rows (REQUIRED)\n",
      "\n",
      "\t- cause_death: 21/25 empty rows (REQUIRED)\n",
      "\n",
      "\t- other_cause_death_1: 21/25 empty rows (OPTIONAL)\n",
      "\n",
      "\t- other_cause_death_2: 25/25 empty rows (OPTIONAL)\n",
      "\n",
      "\t- brain_weight: 25/25 empty rows (REQUIRED)\n",
      "\n",
      "\t- path_braak_nft: 25/25 empty rows (REQUIRED)\n",
      "\n",
      "\t- path_braak_asyn: 25/25 empty rows (REQUIRED)\n",
      "\n",
      "\t- path_cerad: 25/25 empty rows (REQUIRED)\n",
      "\n",
      "\t- path_thal: 25/25 empty rows (REQUIRED)\n",
      "\n",
      "\t- known_pathogenic_mutation: 25/25 empty rows (OPTIONAL)\n",
      "\n",
      "\t- PD_pathogenic_mutation: 25/25 empty rows (OPTIONAL)\n",
      "\n",
      "\t- path_mckeith: 25/25 empty rows (OPTIONAL)\n",
      "\n",
      "\t- sn_neuronal_loss: 25/25 empty rows (OPTIONAL)\n",
      "\n",
      "\t- path_infarcs: 25/25 empty rows (OPTIONAL)\n",
      "\n",
      "\t- path_nia_ri: 25/25 empty rows (OPTIONAL)\n",
      "\n",
      "\t- path_nia_aa_a: 25/25 empty rows (OPTIONAL)\n",
      "\n",
      "\t- path_nia_aa_b: 25/25 empty rows (OPTIONAL)\n",
      "\n",
      "\t- path_nia_aa_c: 25/25 empty rows (OPTIONAL)\n",
      "\n",
      "\t- TDP43: 25/25 empty rows (OPTIONAL)\n",
      "\n",
      "\t- arteriolosclerosis_severity_scale: 25/25 empty rows (OPTIONAL)\n",
      "\n",
      "\t- amyloid_angiopathy_severity_scale: 25/25 empty rows (OPTIONAL)\n",
      "\n",
      "\t- path_ad_level: 25/25 empty rows (OPTIONAL)\n",
      "\n",
      "\t- dig_slide_avail: 25/25 empty rows (OPTIONAL)\n",
      "\n",
      "\t- quant_path_avail: 25/25 empty rows (OPTIONAL)\n",
      "No invalid entries found in Enum fields.\n",
      "\n",
      "recoding replicate_count as int\n",
      "recoding repeated_sample as int\n",
      "recoding input_cell_count as int\n",
      "All required fields are present in *SAMPLE* table.\n",
      "🚨⚠️❗ **Missing Optional Fields in SAMPLE: alternate_sample_id**\n",
      "🚨⚠️❗ **14 Fields with empty (NULL) values:**\n",
      "\n",
      "\t- source_sample_id: 71/71 empty rows (REQUIRED)\n",
      "\n",
      "\t- hemisphere: 71/71 empty rows (REQUIRED)\n",
      "\n",
      "\t- region_level_2: 22/71 empty rows (REQUIRED)\n",
      "\n",
      "\t- region_level_3: 71/71 empty rows (REQUIRED)\n",
      "\n",
      "\t- RIN: 71/71 empty rows (REQUIRED)\n",
      "\n",
      "\t- source_RIN: 71/71 empty rows (REQUIRED)\n",
      "\n",
      "\t- sequencing_length: 71/71 empty rows (REQUIRED)\n",
      "\n",
      "\t- development_stage_ontology_term_id: 71/71 empty rows (REQUIRED)\n",
      "\n",
      "\t- self_reported_ethnicity_ontology_term_id: 71/71 empty rows (REQUIRED)\n",
      "\n",
      "\t- disease_ontology_term_id: 71/71 empty rows (REQUIRED)\n",
      "\n",
      "\t- cell_type_ontology_term_id: 71/71 empty rows (REQUIRED)\n",
      "\n",
      "\t- DV200: 71/71 empty rows (OPTIONAL)\n",
      "\n",
      "\t- pm_PH: 71/71 empty rows (OPTIONAL)\n",
      "\n",
      "\t- donor_id: 71/71 empty rows (OPTIONAL)\n",
      "No invalid entries found in Enum fields.\n",
      "\n",
      "recoding replicate_count as int\n",
      "recoding repeated_sample as int\n",
      "All required fields are present in *DATA* table.\n",
      "🚨⚠️❗ **3 Fields with empty (NULL) values:**\n",
      "\n",
      "\t- header: 267/338 empty rows (REQUIRED)\n",
      "\n",
      "\t- annotation: 338/338 empty rows (REQUIRED)\n",
      "\n",
      "\t- configuration_file: 267/338 empty rows (REQUIRED)\n",
      "No invalid entries found in Enum fields.\n",
      "\n"
     ]
    }
   ],
   "source": [
    "CDE = CDEv2\n",
    "tables = CDE['Table'].unique()\n",
    "\n",
    "dfs = {}\n",
    "for table in tables:\n",
    "    df = read_meta_table(og_path / f\"{table}.csv\")\n",
    "    schema = CDE[CDE['Table'] == table]\n",
    "\n",
    "    report = ReportCollector(destination=\"NA\")\n",
    "    full_table, report = validate_table(df.copy(), table, schema, report)\n",
    "    report.print_log()\n",
    "    dfs[table] = full_table\n",
    "    # df.to_csv(v1_path / f\"{table}.csv\", index=False)"
   ]
  },
  {
   "cell_type": "markdown",
   "metadata": {},
   "source": [
    "Fix a typo, and then reupload.\n",
    "\n",
    "```python \n",
    "\"\"\"\n",
    "    Hi Andy,\n",
    "    That’s a typo on my end.\n",
    "\n",
    "    NP18-00117 should be BB18.0035.\n",
    "    NP18-00287 is correct.\n",
    "\n",
    "    CLINPATH+SUBJECT\n",
    "    Cheers,\n",
    "\n",
    "    Oliver\n",
    "\"\"\"\n",
    "```"
   ]
  },
  {
   "cell_type": "code",
   "execution_count": 5,
   "metadata": {},
   "outputs": [
    {
     "name": "stdout",
     "output_type": "stream",
     "text": [
      "before: 11    BB18.0035\n",
      "Name: source_subject_id, dtype: object\n",
      "before: 11    BB18.0035\n",
      "Name: source_subject_id, dtype: object\n"
     ]
    }
   ],
   "source": [
    "SUBJECT = dfs['SUBJECT']\n",
    "CLINPATH = dfs['CLINPATH']\n",
    "row = SUBJECT['subject_id'] == 'NP18-117'\n",
    "col = 'source_subject_id'\n",
    "#fix typo\n",
    "print(f\"before: {SUBJECT.loc[row,col]}\")\n",
    "# SUBJECT.loc[row,col] = 'BB18.0035'\n",
    "# print(f\"after: {SUBJECT.loc[row,col]}\")\n",
    "\n",
    "row = CLINPATH['subject_id'] == 'NP18-117'\n",
    "col = 'source_subject_id'\n",
    "#fix typo\n",
    "print(f\"before: {CLINPATH.loc[row,col]}\")\n",
    "# CLINPATH.loc[row,col] = 'BB18.0035'\n",
    "# print(f\"after: {CLINPATH.loc[row,col]}\")\n",
    "\n",
    "# already fixed!\n"
   ]
  },
  {
   "cell_type": "code",
   "execution_count": 6,
   "metadata": {},
   "outputs": [
    {
     "name": "stdout",
     "output_type": "stream",
     "text": [
      "after: 61    ASAP68_PD_NP18-117_PUT\n",
      "Name: sample_id, dtype: object\n"
     ]
    }
   ],
   "source": [
    "SAMPLE = dfs['SAMPLE']\n",
    "# row = SAMPLE['sample_id'] == 'ASAP68 _PD_NP18-117_PUT'\n",
    "col = 'sample_id'\n",
    "# #fix typo\n",
    "# print(f\"before: {SAMPLE.loc[row,col]}\")\n",
    "# SAMPLE.loc[row,col] = 'ASAP68_PD_NP18-117_PUT'\n",
    "row = SAMPLE['sample_id'] == 'ASAP68_PD_NP18-117_PUT'\n",
    "print(f\"after: {SAMPLE.loc[row,col]}\")\n"
   ]
  },
  {
   "cell_type": "markdown",
   "metadata": {},
   "source": [
    "Encode primary diagnosis... \n",
    "\n",
    "check that the sample_id contains \"_PD_\" for NULL encoded SUBJECT['primary_diagnosis']"
   ]
  },
  {
   "cell_type": "code",
   "execution_count": 32,
   "metadata": {},
   "outputs": [],
   "source": [
    "DATA = dfs['DATA']\n",
    "DATA['replicate'] = DATA['replicate'].apply(lambda x: f\"Rep{x}\" if x is not NULL else x)\n",
    "DATA['replicate'].unique()\n",
    "\n",
    "dfs['DATA'] = DATA"
   ]
  },
  {
   "cell_type": "code",
   "execution_count": 33,
   "metadata": {},
   "outputs": [],
   "source": [
    "\n",
    "SUBJECT = dfs['SUBJECT']\n",
    "\n",
    "tmp = SUBJECT.loc[SUBJECT['primary_diagnosis']==NULL,['subject_id','primary_diagnosis']]\n",
    "\n",
    "tmp.primary_diagnosis.all()\n",
    "\n",
    "tmp2 = tmp.set_index('subject_id')"
   ]
  },
  {
   "cell_type": "code",
   "execution_count": 34,
   "metadata": {},
   "outputs": [],
   "source": [
    "tmp2 = dfs['SAMPLE'][['sample_id','subject_id']]"
   ]
  },
  {
   "cell_type": "code",
   "execution_count": 35,
   "metadata": {},
   "outputs": [
    {
     "name": "stderr",
     "output_type": "stream",
     "text": [
      "/var/folders/0z/hvx6j8cn6yj3bqbyq6rtsxm40000gn/T/ipykernel_52979/183969063.py:1: SettingWithCopyWarning: \n",
      "A value is trying to be set on a copy of a slice from a DataFrame.\n",
      "Try using .loc[row_indexer,col_indexer] = value instead\n",
      "\n",
      "See the caveats in the documentation: https://pandas.pydata.org/pandas-docs/stable/user_guide/indexing.html#returning-a-view-versus-a-copy\n",
      "  tmp2['PD'] = tmp2['sample_id'].apply(lambda x: '_PD_' in x)\n",
      "/var/folders/0z/hvx6j8cn6yj3bqbyq6rtsxm40000gn/T/ipykernel_52979/183969063.py:2: SettingWithCopyWarning: \n",
      "A value is trying to be set on a copy of a slice from a DataFrame.\n",
      "Try using .loc[row_indexer,col_indexer] = value instead\n",
      "\n",
      "See the caveats in the documentation: https://pandas.pydata.org/pandas-docs/stable/user_guide/indexing.html#returning-a-view-versus-a-copy\n",
      "  tmp2['Ctl'] = tmp2['sample_id'].apply(lambda x: '_Ctl_' in x)\n"
     ]
    },
    {
     "data": {
      "text/plain": [
       "{'NP16-140',\n",
       " 'NP16-160',\n",
       " 'NP16-162',\n",
       " 'NP16-25',\n",
       " 'NP16-269',\n",
       " 'NP17-191',\n",
       " 'NP17-94',\n",
       " 'NP18-117',\n",
       " 'NP18-287',\n",
       " 'NP18-304',\n",
       " 'NP19-108',\n",
       " 'NP19-16',\n",
       " 'NP19-23',\n",
       " 'NP19-255',\n",
       " 'P73',\n",
       " 'P74'}"
      ]
     },
     "execution_count": 35,
     "metadata": {},
     "output_type": "execute_result"
    }
   ],
   "source": [
    "tmp2['PD'] = tmp2['sample_id'].apply(lambda x: '_PD_' in x)\n",
    "tmp2['Ctl'] = tmp2['sample_id'].apply(lambda x: '_Ctl_' in x)\n",
    "\n",
    "PD_subj = set(tmp2[tmp2['PD']]['subject_id'])\n",
    "PD_subj"
   ]
  },
  {
   "cell_type": "code",
   "execution_count": 36,
   "metadata": {},
   "outputs": [
    {
     "data": {
      "text/plain": [
       "set()"
      ]
     },
     "execution_count": 36,
     "metadata": {},
     "output_type": "execute_result"
    }
   ],
   "source": [
    "set(tmp['subject_id']) - PD_subj"
   ]
  },
  {
   "cell_type": "code",
   "execution_count": 37,
   "metadata": {},
   "outputs": [
    {
     "data": {
      "text/plain": [
       "0                                        PD\n",
       "1                                        PD\n",
       "2     No PD nor other neurological disorder\n",
       "3                                        PD\n",
       "4     No PD nor other neurological disorder\n",
       "5     No PD nor other neurological disorder\n",
       "6                                        PD\n",
       "7                                        PD\n",
       "8                                        PD\n",
       "9     No PD nor other neurological disorder\n",
       "10                                       PD\n",
       "11                                       PD\n",
       "12    No PD nor other neurological disorder\n",
       "13                                       PD\n",
       "14                                       PD\n",
       "15                                       PD\n",
       "16                                       PD\n",
       "17                                       PD\n",
       "18                                       PD\n",
       "19    No PD nor other neurological disorder\n",
       "20    No PD nor other neurological disorder\n",
       "21    No PD nor other neurological disorder\n",
       "22                                       PD\n",
       "23                                       PD\n",
       "24    No PD nor other neurological disorder\n",
       "Name: primary_diagnosis, dtype: object"
      ]
     },
     "execution_count": 37,
     "metadata": {},
     "output_type": "execute_result"
    }
   ],
   "source": [
    "# encode \"case\" as \"PD\"\n",
    "dfs['SUBJECT']['primary_diagnosis'] = dfs['SUBJECT']['primary_diagnosis'].replace(NULL,'PD')\n",
    "dfs['SUBJECT']['primary_diagnosis']"
   ]
  },
  {
   "cell_type": "code",
   "execution_count": 38,
   "metadata": {},
   "outputs": [
    {
     "data": {
      "text/html": [
       "<div>\n",
       "<style scoped>\n",
       "    .dataframe tbody tr th:only-of-type {\n",
       "        vertical-align: middle;\n",
       "    }\n",
       "\n",
       "    .dataframe tbody tr th {\n",
       "        vertical-align: top;\n",
       "    }\n",
       "\n",
       "    .dataframe thead th {\n",
       "        text-align: right;\n",
       "    }\n",
       "</style>\n",
       "<table border=\"1\" class=\"dataframe\">\n",
       "  <thead>\n",
       "    <tr style=\"text-align: right;\">\n",
       "      <th></th>\n",
       "      <th>ASAP_team_name</th>\n",
       "      <th>ASAP_lab_name</th>\n",
       "      <th>project_name</th>\n",
       "      <th>team_dataset_id</th>\n",
       "      <th>project_dataset</th>\n",
       "      <th>project_description</th>\n",
       "      <th>PI_full_name</th>\n",
       "      <th>PI_email</th>\n",
       "      <th>contributor_names</th>\n",
       "      <th>submitter_name</th>\n",
       "      <th>...</th>\n",
       "      <th>publication_PMID</th>\n",
       "      <th>number_of_brain_samples</th>\n",
       "      <th>brain_regions</th>\n",
       "      <th>types_of_samples</th>\n",
       "      <th>PI_ORCHID</th>\n",
       "      <th>PI_google_scholar_id</th>\n",
       "      <th>DUA_version</th>\n",
       "      <th>preprocessing_references</th>\n",
       "      <th>metadata_version_date</th>\n",
       "      <th>alternate_dataset_id</th>\n",
       "    </tr>\n",
       "  </thead>\n",
       "  <tbody>\n",
       "    <tr>\n",
       "      <th>0</th>\n",
       "      <td>TEAM-JAKOBSSON</td>\n",
       "      <td>Gale Hammell Lab</td>\n",
       "      <td>Activation of transposable elements as a trigg...</td>\n",
       "      <td>sn_rnaseq</td>\n",
       "      <td>Single nuclei sequencing of brain regions from...</td>\n",
       "      <td>A range of genetic, clinical and pathological ...</td>\n",
       "      <td>Molly, Gale Hammell</td>\n",
       "      <td>Molly.GaleHammell@nyulangone.org</td>\n",
       "      <td>Anita, Adami; Talitha, Forcier; Raquel, Garza;...</td>\n",
       "      <td>Oliver, H, Tam</td>\n",
       "      <td>...</td>\n",
       "      <td>NA</td>\n",
       "      <td>71</td>\n",
       "      <td>Substantia nigra, prefrontal cortex, amygdala,...</td>\n",
       "      <td>Late stage PD &amp; control</td>\n",
       "      <td>NA</td>\n",
       "      <td>NA</td>\n",
       "      <td>Creative Commons Attribution license CC BY 4.0</td>\n",
       "      <td>NA</td>\n",
       "      <td>v2.1_20241101</td>\n",
       "      <td>NA</td>\n",
       "    </tr>\n",
       "  </tbody>\n",
       "</table>\n",
       "<p>1 rows × 24 columns</p>\n",
       "</div>"
      ],
      "text/plain": [
       "   ASAP_team_name     ASAP_lab_name  \\\n",
       "0  TEAM-JAKOBSSON  Gale Hammell Lab   \n",
       "\n",
       "                                        project_name team_dataset_id  \\\n",
       "0  Activation of transposable elements as a trigg...       sn_rnaseq   \n",
       "\n",
       "                                     project_dataset  \\\n",
       "0  Single nuclei sequencing of brain regions from...   \n",
       "\n",
       "                                 project_description         PI_full_name  \\\n",
       "0  A range of genetic, clinical and pathological ...  Molly, Gale Hammell   \n",
       "\n",
       "                           PI_email  \\\n",
       "0  Molly.GaleHammell@nyulangone.org   \n",
       "\n",
       "                                   contributor_names  submitter_name  ...  \\\n",
       "0  Anita, Adami; Talitha, Forcier; Raquel, Garza;...  Oliver, H, Tam  ...   \n",
       "\n",
       "  publication_PMID number_of_brain_samples  \\\n",
       "0               NA                      71   \n",
       "\n",
       "                                       brain_regions         types_of_samples  \\\n",
       "0  Substantia nigra, prefrontal cortex, amygdala,...  Late stage PD & control   \n",
       "\n",
       "  PI_ORCHID PI_google_scholar_id  \\\n",
       "0        NA                   NA   \n",
       "\n",
       "                                      DUA_version preprocessing_references  \\\n",
       "0  Creative Commons Attribution license CC BY 4.0                       NA   \n",
       "\n",
       "  metadata_version_date alternate_dataset_id  \n",
       "0         v2.1_20241101                   NA  \n",
       "\n",
       "[1 rows x 24 columns]"
      ]
     },
     "execution_count": 38,
     "metadata": {},
     "output_type": "execute_result"
    }
   ],
   "source": [
    "dfs['STUDY']['metadata_version_date'] = METADATA_VERSION_DATE\n",
    "# rationalize the team_dataset_id\n",
    "dfs['STUDY']['team_dataset_id'] = dataset_name.replace(\"-\", \"_\")\n",
    "dfs['STUDY']"
   ]
  },
  {
   "cell_type": "markdown",
   "metadata": {},
   "source": [
    "## validate v2 tables\n"
   ]
  },
  {
   "cell_type": "code",
   "execution_count": 39,
   "metadata": {},
   "outputs": [
    {
     "name": "stdout",
     "output_type": "stream",
     "text": [
      "recoding number_of_brain_samples as int\n",
      "All required fields are present in *STUDY* table.\n",
      "🚨⚠️❗ **7 Fields with empty (NULL) values:**\n",
      "\n",
      "\t- other_funding_source: 1/1 empty rows (REQUIRED)\n",
      "\n",
      "\t- publication_DOI: 1/1 empty rows (REQUIRED)\n",
      "\n",
      "\t- publication_PMID: 1/1 empty rows (REQUIRED)\n",
      "\n",
      "\t- PI_ORCHID: 1/1 empty rows (OPTIONAL)\n",
      "\n",
      "\t- PI_google_scholar_id: 1/1 empty rows (OPTIONAL)\n",
      "\n",
      "\t- preprocessing_references: 1/1 empty rows (OPTIONAL)\n",
      "\n",
      "\t- alternate_dataset_id: 1/1 empty rows (OPTIONAL)\n",
      "No invalid entries found in Enum fields.\n",
      "\n",
      "All required fields are present in *PROTOCOL* table.\n",
      "🚨⚠️❗ **1 Fields with empty (NULL) values:**\n",
      "\n",
      "\t- sample_collection_summary: 1/1 empty rows (REQUIRED)\n",
      "No invalid entries found in Enum fields.\n",
      "\n",
      "recoding age_at_onset as int\n",
      "recoding age_at_diagnosis as int\n",
      "recoding first_motor_symptom as int\n",
      "All required fields are present in *SUBJECT* table.\n",
      "🚨⚠️❗ **20 Fields with empty (NULL) values:**\n",
      "\n",
      "\t- source_subject_id: 6/25 empty rows (REQUIRED)\n",
      "\n",
      "\t- AMPPD_id: 25/25 empty rows (REQUIRED)\n",
      "\n",
      "\t- GP2_id: 25/25 empty rows (REQUIRED)\n",
      "\n",
      "\t- biobank_name: 25/25 empty rows (REQUIRED)\n",
      "\n",
      "\t- race: 25/25 empty rows (REQUIRED)\n",
      "\n",
      "\t- ethnicity: 25/25 empty rows (REQUIRED)\n",
      "\n",
      "\t- family_history: 25/25 empty rows (REQUIRED)\n",
      "\n",
      "\t- last_diagnosis: 25/25 empty rows (REQUIRED)\n",
      "\n",
      "\t- age_at_onset: 25/25 empty rows (REQUIRED)\n",
      "\n",
      "\t- age_at_diagnosis: 17/25 empty rows (REQUIRED)\n",
      "\n",
      "\t- first_motor_symptom: 25/25 empty rows (REQUIRED)\n",
      "\n",
      "\t- hx_dementia_mci: 25/25 empty rows (REQUIRED)\n",
      "\n",
      "\t- hx_melanoma: 25/25 empty rows (REQUIRED)\n",
      "\n",
      "\t- education_level: 25/25 empty rows (REQUIRED)\n",
      "\n",
      "\t- smoking_status: 25/25 empty rows (REQUIRED)\n",
      "\n",
      "\t- smoking_years: 25/25 empty rows (OPTIONAL)\n",
      "\n",
      "\t- APOE_e4_status: 25/25 empty rows (REQUIRED)\n",
      "\n",
      "\t- cognitive_status: 25/25 empty rows (REQUIRED)\n",
      "\n",
      "\t- time_from_baseline: 25/25 empty rows (REQUIRED)\n",
      "\n",
      "\t- primary_diagnosis_text: 25/25 empty rows (OPTIONAL)\n",
      "🚨⚠️❗ **2 Fields with invalid entries:**\n",
      "- _*age_at_diagnosis*_:  invalid values 💩'NA', '65.0', '67.0', '81.0', '68.0', '58.0', '73.0', '66.0'\n",
      "    - valid ➡️ int or NULL ('NA')\n",
      "- _*primary_diagnosis*_:  invalid values 💩'PD'\n",
      "    - valid ➡️ 'Healthy Control', 'Idiopathic PD', 'Alzheimer's disease', 'Frontotemporal dementia', 'Corticobasal syndrome', 'Dementia with Lewy bodies', 'Dopa-responsive dystonia', 'Essential tremor', 'Hemiparkinson/hemiatrophy syndrome', 'Juvenile autosomal recessive parkinsonism', 'Motor neuron disease with parkinsonism', 'Multiple system atrophy', 'Neuroleptic-induced parkinsonism', 'Normal pressure hydrocephalus', 'Progressive supranuclear palsy', 'Psychogenic parkinsonism', 'Vascular parkinsonism', 'No PD nor other neurological disorder', 'Spinocerebellar Ataxia (SCA)', 'Prodromal non-motor PD', 'Prodromal motor PD', 'Other neurological disorder', 'NA'\n",
      "\n",
      "All required fields are present in *CLINPATH* table.\n",
      "🚨⚠️❗ **33 Fields with empty (NULL) values:**\n",
      "\n",
      "\t- source_subject_id: 6/25 empty rows (REQUIRED)\n",
      "\n",
      "\t- duration_pmi: 7/25 empty rows (REQUIRED)\n",
      "\n",
      "\t- path_autopsy_second_dx: 25/25 empty rows (OPTIONAL)\n",
      "\n",
      "\t- path_autopsy_third_dx: 25/25 empty rows (OPTIONAL)\n",
      "\n",
      "\t- path_autopsy_fourth_dx: 25/25 empty rows (OPTIONAL)\n",
      "\n",
      "\t- path_autopsy_fifth_dx: 25/25 empty rows (OPTIONAL)\n",
      "\n",
      "\t- path_autopsy_sixth_dx: 25/25 empty rows (OPTIONAL)\n",
      "\n",
      "\t- path_autopsy_seventh_dx: 25/25 empty rows (OPTIONAL)\n",
      "\n",
      "\t- path_autopsy_eight_dx: 25/25 empty rows (OPTIONAL)\n",
      "\n",
      "\t- path_year_death: 25/25 empty rows (REQUIRED)\n",
      "\n",
      "\t- cause_death: 21/25 empty rows (REQUIRED)\n",
      "\n",
      "\t- other_cause_death_1: 21/25 empty rows (OPTIONAL)\n",
      "\n",
      "\t- other_cause_death_2: 25/25 empty rows (OPTIONAL)\n",
      "\n",
      "\t- brain_weight: 25/25 empty rows (REQUIRED)\n",
      "\n",
      "\t- path_braak_nft: 25/25 empty rows (REQUIRED)\n",
      "\n",
      "\t- path_braak_asyn: 25/25 empty rows (REQUIRED)\n",
      "\n",
      "\t- path_cerad: 25/25 empty rows (REQUIRED)\n",
      "\n",
      "\t- path_thal: 25/25 empty rows (REQUIRED)\n",
      "\n",
      "\t- known_pathogenic_mutation: 25/25 empty rows (OPTIONAL)\n",
      "\n",
      "\t- PD_pathogenic_mutation: 25/25 empty rows (OPTIONAL)\n",
      "\n",
      "\t- path_mckeith: 25/25 empty rows (OPTIONAL)\n",
      "\n",
      "\t- sn_neuronal_loss: 25/25 empty rows (OPTIONAL)\n",
      "\n",
      "\t- path_infarcs: 25/25 empty rows (OPTIONAL)\n",
      "\n",
      "\t- path_nia_ri: 25/25 empty rows (OPTIONAL)\n",
      "\n",
      "\t- path_nia_aa_a: 25/25 empty rows (OPTIONAL)\n",
      "\n",
      "\t- path_nia_aa_b: 25/25 empty rows (OPTIONAL)\n",
      "\n",
      "\t- path_nia_aa_c: 25/25 empty rows (OPTIONAL)\n",
      "\n",
      "\t- TDP43: 25/25 empty rows (OPTIONAL)\n",
      "\n",
      "\t- arteriolosclerosis_severity_scale: 25/25 empty rows (OPTIONAL)\n",
      "\n",
      "\t- amyloid_angiopathy_severity_scale: 25/25 empty rows (OPTIONAL)\n",
      "\n",
      "\t- path_ad_level: 25/25 empty rows (OPTIONAL)\n",
      "\n",
      "\t- dig_slide_avail: 25/25 empty rows (OPTIONAL)\n",
      "\n",
      "\t- quant_path_avail: 25/25 empty rows (OPTIONAL)\n",
      "No invalid entries found in Enum fields.\n",
      "\n",
      "recoding replicate_count as int\n",
      "recoding repeated_sample as int\n",
      "recoding input_cell_count as int\n",
      "All required fields are present in *SAMPLE* table.\n",
      "🚨⚠️❗ **15 Fields with empty (NULL) values:**\n",
      "\n",
      "\t- source_sample_id: 71/71 empty rows (REQUIRED)\n",
      "\n",
      "\t- hemisphere: 71/71 empty rows (REQUIRED)\n",
      "\n",
      "\t- region_level_2: 22/71 empty rows (REQUIRED)\n",
      "\n",
      "\t- region_level_3: 71/71 empty rows (REQUIRED)\n",
      "\n",
      "\t- RIN: 71/71 empty rows (REQUIRED)\n",
      "\n",
      "\t- source_RIN: 71/71 empty rows (REQUIRED)\n",
      "\n",
      "\t- sequencing_length: 71/71 empty rows (REQUIRED)\n",
      "\n",
      "\t- development_stage_ontology_term_id: 71/71 empty rows (REQUIRED)\n",
      "\n",
      "\t- self_reported_ethnicity_ontology_term_id: 71/71 empty rows (REQUIRED)\n",
      "\n",
      "\t- disease_ontology_term_id: 71/71 empty rows (REQUIRED)\n",
      "\n",
      "\t- cell_type_ontology_term_id: 71/71 empty rows (REQUIRED)\n",
      "\n",
      "\t- DV200: 71/71 empty rows (OPTIONAL)\n",
      "\n",
      "\t- pm_PH: 71/71 empty rows (OPTIONAL)\n",
      "\n",
      "\t- donor_id: 71/71 empty rows (OPTIONAL)\n",
      "\n",
      "\t- alternate_sample_id: 71/71 empty rows (OPTIONAL)\n",
      "No invalid entries found in Enum fields.\n",
      "\n",
      "recoding replicate_count as int\n",
      "recoding repeated_sample as int\n",
      "All required fields are present in *DATA* table.\n",
      "🚨⚠️❗ **3 Fields with empty (NULL) values:**\n",
      "\n",
      "\t- header: 267/338 empty rows (REQUIRED)\n",
      "\n",
      "\t- annotation: 338/338 empty rows (REQUIRED)\n",
      "\n",
      "\t- configuration_file: 267/338 empty rows (REQUIRED)\n",
      "No invalid entries found in Enum fields.\n",
      "\n"
     ]
    }
   ],
   "source": [
    "CDE = CDEv2\n",
    "v2_tables = dfs\n",
    "for table,df in v2_tables.items():\n",
    "    schema = CDE[CDE['Table'] == table]\n",
    "\n",
    "    report = ReportCollector(destination=\"NA\")\n",
    "    full_table, report = validate_table(df.copy(), table, schema, report)\n",
    "    report.print_log()\n"
   ]
  },
  {
   "cell_type": "markdown",
   "metadata": {},
   "source": [
    "### save extras as auxillary tables\n"
   ]
  },
  {
   "cell_type": "code",
   "execution_count": 40,
   "metadata": {},
   "outputs": [],
   "source": [
    "# make tables conform to CDE and save extra columns as \"auxiliary\"\n",
    "v2_path = metadata_path / \"v2\"\n",
    "\n",
    "for table in tables:\n",
    "    df = dfs[table]\n",
    "    schema = CDE[CDE['Table'] == table]\n",
    "    valid_fields = schema['Field'].unique()\n",
    "    df_out = df[valid_fields]\n",
    "    aux_fields = set(df.columns) - set(valid_fields)\n",
    "    if aux_fields:\n",
    "        df_aux = df[list(aux_fields)]\n",
    "        df_aux.to_csv(v2_path / f\"{table}_auxiliary.csv\", index=False)\n",
    "        print(f\"Saved {table}_auxiliary.csv\")\n",
    "    df_out.to_csv(v2_path / f\"{table}.csv\", index=False)"
   ]
  },
  {
   "cell_type": "markdown",
   "metadata": {},
   "source": [
    "## v2->v3"
   ]
  },
  {
   "cell_type": "code",
   "execution_count": 41,
   "metadata": {},
   "outputs": [
    {
     "data": {
      "text/plain": [
       "\"['STUDY', 'PROTOCOL', 'SUBJECT', 'SAMPLE', 'DATA', 'CLINPATH', 'PMDBS', 'CONDITION', 'ASSAY_RNAseq']\""
      ]
     },
     "execution_count": 41,
     "metadata": {},
     "output_type": "execute_result"
    }
   ],
   "source": [
    "v3_meta_tables = ['STUDY', 'PROTOCOL', 'SUBJECT', 'SAMPLE', 'DATA', 'CLINPATH', 'PMDBS', 'CONDITION', 'ASSAY_RNAseq']\n",
    "\n",
    "f\"{v3_meta_tables}\""
   ]
  },
  {
   "cell_type": "code",
   "execution_count": 42,
   "metadata": {},
   "outputs": [
    {
     "name": "stdout",
     "output_type": "stream",
     "text": [
      "recoding number_of_brain_samples as int\n",
      "recoding age_at_onset as int\n",
      "recoding age_at_diagnosis as int\n",
      "recoding first_motor_symptom as int\n",
      "recoding replicate_count as int\n",
      "recoding repeated_sample as int\n",
      "recoding input_cell_count as int\n",
      "recoding replicate_count as int\n",
      "recoding repeated_sample as int\n"
     ]
    }
   ],
   "source": [
    "v3_path = metadata_path / \"v3\"\n",
    "\n",
    "v3_tables, aux_tables = v2_to_v3_PMDBS(v2_path, v3_path, CDEv2, CDEv3)"
   ]
  },
  {
   "cell_type": "markdown",
   "metadata": {},
   "source": [
    "### validate v3 tables\n"
   ]
  },
  {
   "cell_type": "code",
   "execution_count": 43,
   "metadata": {},
   "outputs": [
    {
     "name": "stdout",
     "output_type": "stream",
     "text": [
      "recoding number_samples as int\n",
      "All required fields are present in *STUDY* table.\n",
      "🚨⚠️❗ **7 Fields with empty (NULL) values:**\n",
      "\n",
      "\t- other_funding_source: 1/1 empty rows (REQUIRED)\n",
      "\n",
      "\t- publication_DOI: 1/1 empty rows (REQUIRED)\n",
      "\n",
      "\t- publication_PMID: 1/1 empty rows (REQUIRED)\n",
      "\n",
      "\t- PI_ORCID: 1/1 empty rows (OPTIONAL)\n",
      "\n",
      "\t- PI_google_scholar_id: 1/1 empty rows (OPTIONAL)\n",
      "\n",
      "\t- preprocessing_references: 1/1 empty rows (OPTIONAL)\n",
      "\n",
      "\t- alternate_dataset_id: 1/1 empty rows (OPTIONAL)\n",
      "No invalid entries found in Enum fields.\n",
      "\n",
      "All required fields are present in *PROTOCOL* table.\n",
      "🚨⚠️❗ **1 Fields with empty (NULL) values:**\n",
      "\n",
      "\t- sample_collection_summary: 1/1 empty rows (REQUIRED)\n",
      "No invalid entries found in Enum fields.\n",
      "\n",
      "All required fields are present in *SUBJECT* table.\n",
      "🚨⚠️❗ **4 Fields with empty (NULL) values:**\n",
      "\n",
      "\t- source_subject_id: 6/25 empty rows (REQUIRED)\n",
      "\n",
      "\t- biobank_name: 25/25 empty rows (REQUIRED)\n",
      "\n",
      "\t- race: 25/25 empty rows (REQUIRED)\n",
      "\n",
      "\t- primary_diagnosis_text: 25/25 empty rows (OPTIONAL)\n",
      "🚨⚠️❗ **1 Fields with invalid entries:**\n",
      "- _*primary_diagnosis*_:  invalid values 💩'PD'\n",
      "    - valid ➡️ 'Healthy Control', 'Idiopathic PD', 'Alzheimer's disease', 'Frontotemporal dementia', 'Corticobasal syndrome', 'Dementia with Lewy bodies', 'Dopa-responsive dystonia', 'Essential tremor', 'Hemiparkinson/hemiatrophy syndrome', 'Juvenile autosomal recessive parkinsonism', 'Motor neuron disease with parkinsonism', 'Multiple system atrophy', 'Neuroleptic-induced parkinsonism', 'Normal pressure hydrocephalus', 'Progressive supranuclear palsy', 'Psychogenic parkinsonism', 'Vascular parkinsonism', 'No PD nor other neurological disorder', 'Spinocerebellar Ataxia (SCA)', 'Prodromal non-motor PD', 'Prodromal motor PD', 'Other neurological disorder', 'NA'\n",
      "\n",
      "recoding replicate_count as int\n",
      "recoding repeated_sample as int\n",
      "All required fields are present in *SAMPLE* table.\n",
      "🚨⚠️❗ **13 Fields with empty (NULL) values:**\n",
      "\n",
      "\t- source_sample_id: 71/71 empty rows (REQUIRED)\n",
      "\n",
      "\t- organism: 71/71 empty rows (REQUIRED)\n",
      "\n",
      "\t- assay_type: 71/71 empty rows (REQUIRED)\n",
      "\n",
      "\t- time: 71/71 empty rows (OPTIONAL)\n",
      "\n",
      "\t- alternate_id: 71/71 empty rows (OPTIONAL)\n",
      "\n",
      "\t- development_stage_ontology_term_id: 71/71 empty rows (OPTIONAL)\n",
      "\n",
      "\t- self_reported_ethnicity_ontology_term_id: 71/71 empty rows (OPTIONAL)\n",
      "\n",
      "\t- disease_ontology_term_id: 71/71 empty rows (OPTIONAL)\n",
      "\n",
      "\t- donor_id: 71/71 empty rows (OPTIONAL)\n",
      "\n",
      "\t- pm_PH: 71/71 empty rows (OPTIONAL)\n",
      "\n",
      "\t- cell_type_ontology_term_id: 71/71 empty rows (OPTIONAL)\n",
      "\n",
      "\t- source_RIN: 71/71 empty rows (OPTIONAL)\n",
      "\n",
      "\t- DV200: 71/71 empty rows (OPTIONAL)\n",
      "No invalid entries found in Enum fields.\n",
      "\n",
      "recoding replicate_count as int\n",
      "recoding repeated_sample as int\n",
      "All required fields are present in *DATA* table.\n",
      "🚨⚠️❗ **3 Fields with empty (NULL) values:**\n",
      "\n",
      "\t- header: 267/338 empty rows (OPTIONAL)\n",
      "\n",
      "\t- annotation: 338/338 empty rows (OPTIONAL)\n",
      "\n",
      "\t- configuration_file: 267/338 empty rows (OPTIONAL)\n",
      "No invalid entries found in Enum fields.\n",
      "\n",
      "All required fields are present in *PMDBS* table.\n",
      "🚨⚠️❗ **3 Fields with empty (NULL) values:**\n",
      "\n",
      "\t- hemisphere: 71/71 empty rows (OPTIONAL)\n",
      "\n",
      "\t- region_level_2: 22/71 empty rows (REQUIRED)\n",
      "\n",
      "\t- region_level_3: 71/71 empty rows (REQUIRED)\n",
      "No invalid entries found in Enum fields.\n",
      "\n",
      "recoding input_cell_count as int\n",
      "recoding sequencing_length as int\n",
      "All required fields are present in *ASSAY_RNAseq* table.\n",
      "🚨⚠️❗ **2 Fields with empty (NULL) values:**\n",
      "\n",
      "\t- RIN: 71/71 empty rows (REQUIRED)\n",
      "\n",
      "\t- sequencing_length: 71/71 empty rows (REQUIRED)\n",
      "No invalid entries found in Enum fields.\n",
      "\n",
      "recoding age_at_onset as int\n",
      "recoding age_at_diagnosis as int\n",
      "recoding first_motor_symptom as int\n",
      "All required fields are present in *CLINPATH* table.\n",
      "🚨⚠️❗ **49 Fields with empty (NULL) values:**\n",
      "\n",
      "\t- source_subject_id: 6/25 empty rows (REQUIRED)\n",
      "\n",
      "\t- duration_pmi: 7/25 empty rows (REQUIRED)\n",
      "\n",
      "\t- AMPPD_id: 25/25 empty rows (OPTIONAL)\n",
      "\n",
      "\t- GP2_id: 25/25 empty rows (OPTIONAL)\n",
      "\n",
      "\t- ethnicity: 25/25 empty rows (OPTIONAL)\n",
      "\n",
      "\t- family_history: 25/25 empty rows (OPTIONAL)\n",
      "\n",
      "\t- last_diagnosis: 25/25 empty rows (OPTIONAL)\n",
      "\n",
      "\t- age_at_onset: 25/25 empty rows (OPTIONAL)\n",
      "\n",
      "\t- age_at_diagnosis: 17/25 empty rows (OPTIONAL)\n",
      "\n",
      "\t- first_motor_symptom: 25/25 empty rows (OPTIONAL)\n",
      "\n",
      "\t- hx_dementia_mci: 25/25 empty rows (OPTIONAL)\n",
      "\n",
      "\t- hx_melanoma: 25/25 empty rows (OPTIONAL)\n",
      "\n",
      "\t- education_level: 25/25 empty rows (OPTIONAL)\n",
      "\n",
      "\t- smoking_status: 25/25 empty rows (OPTIONAL)\n",
      "\n",
      "\t- smoking_years: 25/25 empty rows (OPTIONAL)\n",
      "\n",
      "\t- APOE_e4_status: 25/25 empty rows (OPTIONAL)\n",
      "\n",
      "\t- cognitive_status: 25/25 empty rows (OPTIONAL)\n",
      "\n",
      "\t- time_from_baseline: 25/25 empty rows (OPTIONAL)\n",
      "\n",
      "\t- path_autopsy_second_dx: 25/25 empty rows (OPTIONAL)\n",
      "\n",
      "\t- path_autopsy_third_dx: 25/25 empty rows (OPTIONAL)\n",
      "\n",
      "\t- path_autopsy_fourth_dx: 25/25 empty rows (OPTIONAL)\n",
      "\n",
      "\t- path_autopsy_fifth_dx: 25/25 empty rows (OPTIONAL)\n",
      "\n",
      "\t- path_autopsy_sixth_dx: 25/25 empty rows (OPTIONAL)\n",
      "\n",
      "\t- path_autopsy_seventh_dx: 25/25 empty rows (OPTIONAL)\n",
      "\n",
      "\t- path_autopsy_eight_dx: 25/25 empty rows (OPTIONAL)\n",
      "\n",
      "\t- path_year_death: 25/25 empty rows (OPTIONAL)\n",
      "\n",
      "\t- cause_death: 21/25 empty rows (OPTIONAL)\n",
      "\n",
      "\t- other_cause_death_1: 21/25 empty rows (OPTIONAL)\n",
      "\n",
      "\t- other_cause_death_2: 25/25 empty rows (OPTIONAL)\n",
      "\n",
      "\t- brain_weight: 25/25 empty rows (OPTIONAL)\n",
      "\n",
      "\t- path_braak_nft: 25/25 empty rows (OPTIONAL)\n",
      "\n",
      "\t- path_braak_asyn: 25/25 empty rows (OPTIONAL)\n",
      "\n",
      "\t- path_cerad: 25/25 empty rows (OPTIONAL)\n",
      "\n",
      "\t- path_thal: 25/25 empty rows (OPTIONAL)\n",
      "\n",
      "\t- known_pathogenic_mutation: 25/25 empty rows (OPTIONAL)\n",
      "\n",
      "\t- PD_pathogenic_mutation: 25/25 empty rows (OPTIONAL)\n",
      "\n",
      "\t- path_mckeith: 25/25 empty rows (OPTIONAL)\n",
      "\n",
      "\t- sn_neuronal_loss: 25/25 empty rows (OPTIONAL)\n",
      "\n",
      "\t- path_infarcs: 25/25 empty rows (OPTIONAL)\n",
      "\n",
      "\t- path_nia_ri: 25/25 empty rows (OPTIONAL)\n",
      "\n",
      "\t- path_nia_aa_a: 25/25 empty rows (OPTIONAL)\n",
      "\n",
      "\t- path_nia_aa_b: 25/25 empty rows (OPTIONAL)\n",
      "\n",
      "\t- path_nia_aa_c: 25/25 empty rows (OPTIONAL)\n",
      "\n",
      "\t- TDP43: 25/25 empty rows (OPTIONAL)\n",
      "\n",
      "\t- arteriolosclerosis_severity_scale: 25/25 empty rows (OPTIONAL)\n",
      "\n",
      "\t- amyloid_angiopathy_severity_scale: 25/25 empty rows (OPTIONAL)\n",
      "\n",
      "\t- path_ad_level: 25/25 empty rows (OPTIONAL)\n",
      "\n",
      "\t- dig_slide_avail: 25/25 empty rows (OPTIONAL)\n",
      "\n",
      "\t- quant_path_avail: 25/25 empty rows (OPTIONAL)\n",
      "🚨⚠️❗ **1 Fields with invalid entries:**\n",
      "- _*age_at_diagnosis*_:  invalid values 💩'NA', '65.0', '67.0', '81.0', '68.0', '58.0', '73.0', '66.0'\n",
      "    - valid ➡️ int or NULL ('NA')\n",
      "\n",
      "All required fields are present in *CONDITION* table.\n",
      "🚨⚠️❗ **2 Fields with empty (NULL) values:**\n",
      "\n",
      "\t- protocol_id: 2/2 empty rows (REQUIRED)\n",
      "\n",
      "\t- intervention_aux_table: 2/2 empty rows (OPTIONAL)\n",
      "No invalid entries found in Enum fields.\n",
      "\n"
     ]
    }
   ],
   "source": [
    "CDE = CDEv3\n",
    "for table,df in v3_tables.items():\n",
    "    schema = CDE[CDE['Table'] == table]\n",
    "\n",
    "    report = ReportCollector(destination=\"NA\")\n",
    "    full_table, report = validate_table(df.copy(), table, schema, report)\n",
    "    report.print_log()"
   ]
  },
  {
   "cell_type": "code",
   "execution_count": 44,
   "metadata": {},
   "outputs": [
    {
     "data": {
      "text/html": [
       "<div>\n",
       "<style scoped>\n",
       "    .dataframe tbody tr th:only-of-type {\n",
       "        vertical-align: middle;\n",
       "    }\n",
       "\n",
       "    .dataframe tbody tr th {\n",
       "        vertical-align: top;\n",
       "    }\n",
       "\n",
       "    .dataframe thead th {\n",
       "        text-align: right;\n",
       "    }\n",
       "</style>\n",
       "<table border=\"1\" class=\"dataframe\">\n",
       "  <thead>\n",
       "    <tr style=\"text-align: right;\">\n",
       "      <th></th>\n",
       "      <th>ASAP_team_name</th>\n",
       "      <th>ASAP_lab_name</th>\n",
       "      <th>project_name</th>\n",
       "      <th>team_dataset_id</th>\n",
       "      <th>project_dataset</th>\n",
       "      <th>project_description</th>\n",
       "      <th>PI_full_name</th>\n",
       "      <th>PI_email</th>\n",
       "      <th>contributor_names</th>\n",
       "      <th>submitter_name</th>\n",
       "      <th>...</th>\n",
       "      <th>number_samples</th>\n",
       "      <th>sample_types</th>\n",
       "      <th>types_of_samples</th>\n",
       "      <th>DUA_version</th>\n",
       "      <th>metadata_tables</th>\n",
       "      <th>PI_ORCID</th>\n",
       "      <th>PI_google_scholar_id</th>\n",
       "      <th>preprocessing_references</th>\n",
       "      <th>metadata_version_date</th>\n",
       "      <th>alternate_dataset_id</th>\n",
       "    </tr>\n",
       "  </thead>\n",
       "  <tbody>\n",
       "    <tr>\n",
       "      <th>0</th>\n",
       "      <td>TEAM-JAKOBSSON</td>\n",
       "      <td>Gale Hammell Lab</td>\n",
       "      <td>Activation of transposable elements as a trigg...</td>\n",
       "      <td>sn_rnaseq</td>\n",
       "      <td>Single nuclei sequencing of brain regions from...</td>\n",
       "      <td>A range of genetic, clinical and pathological ...</td>\n",
       "      <td>Molly, Gale Hammell</td>\n",
       "      <td>Molly.GaleHammell@nyulangone.org</td>\n",
       "      <td>Anita, Adami; Talitha, Forcier; Raquel, Garza;...</td>\n",
       "      <td>Oliver, H, Tam</td>\n",
       "      <td>...</td>\n",
       "      <td>71</td>\n",
       "      <td>Substantia nigra, prefrontal cortex, amygdala,...</td>\n",
       "      <td>Late stage PD &amp; control</td>\n",
       "      <td>Creative Commons Attribution license CC BY 4.0</td>\n",
       "      <td>['STUDY', 'PROTOCOL', 'SUBJECT', 'SAMPLE', 'DA...</td>\n",
       "      <td>NA</td>\n",
       "      <td>NA</td>\n",
       "      <td>NA</td>\n",
       "      <td>v3.0_20241102</td>\n",
       "      <td>NA</td>\n",
       "    </tr>\n",
       "  </tbody>\n",
       "</table>\n",
       "<p>1 rows × 25 columns</p>\n",
       "</div>"
      ],
      "text/plain": [
       "   ASAP_team_name     ASAP_lab_name  \\\n",
       "0  TEAM-JAKOBSSON  Gale Hammell Lab   \n",
       "\n",
       "                                        project_name team_dataset_id  \\\n",
       "0  Activation of transposable elements as a trigg...       sn_rnaseq   \n",
       "\n",
       "                                     project_dataset  \\\n",
       "0  Single nuclei sequencing of brain regions from...   \n",
       "\n",
       "                                 project_description         PI_full_name  \\\n",
       "0  A range of genetic, clinical and pathological ...  Molly, Gale Hammell   \n",
       "\n",
       "                           PI_email  \\\n",
       "0  Molly.GaleHammell@nyulangone.org   \n",
       "\n",
       "                                   contributor_names  submitter_name  ...  \\\n",
       "0  Anita, Adami; Talitha, Forcier; Raquel, Garza;...  Oliver, H, Tam  ...   \n",
       "\n",
       "  number_samples                                       sample_types  \\\n",
       "0             71  Substantia nigra, prefrontal cortex, amygdala,...   \n",
       "\n",
       "          types_of_samples                                     DUA_version  \\\n",
       "0  Late stage PD & control  Creative Commons Attribution license CC BY 4.0   \n",
       "\n",
       "                                     metadata_tables PI_ORCID  \\\n",
       "0  ['STUDY', 'PROTOCOL', 'SUBJECT', 'SAMPLE', 'DA...       NA   \n",
       "\n",
       "  PI_google_scholar_id preprocessing_references metadata_version_date  \\\n",
       "0                   NA                       NA         v3.0_20241102   \n",
       "\n",
       "  alternate_dataset_id  \n",
       "0                   NA  \n",
       "\n",
       "[1 rows x 25 columns]"
      ]
     },
     "execution_count": 44,
     "metadata": {},
     "output_type": "execute_result"
    }
   ],
   "source": [
    "STUDY = v3_tables['STUDY']\n",
    "STUDY"
   ]
  },
  {
   "cell_type": "code",
   "execution_count": 45,
   "metadata": {},
   "outputs": [
    {
     "data": {
      "text/html": [
       "<div>\n",
       "<style scoped>\n",
       "    .dataframe tbody tr th:only-of-type {\n",
       "        vertical-align: middle;\n",
       "    }\n",
       "\n",
       "    .dataframe tbody tr th {\n",
       "        vertical-align: top;\n",
       "    }\n",
       "\n",
       "    .dataframe thead th {\n",
       "        text-align: right;\n",
       "    }\n",
       "</style>\n",
       "<table border=\"1\" class=\"dataframe\">\n",
       "  <thead>\n",
       "    <tr style=\"text-align: right;\">\n",
       "      <th></th>\n",
       "      <th>ASAP_team_name</th>\n",
       "      <th>ASAP_lab_name</th>\n",
       "      <th>project_name</th>\n",
       "      <th>team_dataset_id</th>\n",
       "      <th>project_dataset</th>\n",
       "      <th>project_description</th>\n",
       "      <th>PI_full_name</th>\n",
       "      <th>PI_email</th>\n",
       "      <th>contributor_names</th>\n",
       "      <th>submitter_name</th>\n",
       "      <th>...</th>\n",
       "      <th>publication_PMID</th>\n",
       "      <th>number_of_brain_samples</th>\n",
       "      <th>brain_regions</th>\n",
       "      <th>types_of_samples</th>\n",
       "      <th>PI_ORCHID</th>\n",
       "      <th>PI_google_scholar_id</th>\n",
       "      <th>DUA_version</th>\n",
       "      <th>preprocessing_references</th>\n",
       "      <th>metadata_version_date</th>\n",
       "      <th>alternate_dataset_id</th>\n",
       "    </tr>\n",
       "  </thead>\n",
       "  <tbody>\n",
       "    <tr>\n",
       "      <th>0</th>\n",
       "      <td>TEAM-JAKOBSSON</td>\n",
       "      <td>Gale Hammell Lab</td>\n",
       "      <td>Activation of transposable elements as a trigg...</td>\n",
       "      <td>sn_rnaseq</td>\n",
       "      <td>Single nuclei sequencing of brain regions from...</td>\n",
       "      <td>A range of genetic, clinical and pathological ...</td>\n",
       "      <td>Molly, Gale Hammell</td>\n",
       "      <td>Molly.GaleHammell@nyulangone.org</td>\n",
       "      <td>Anita, Adami; Talitha, Forcier; Raquel, Garza;...</td>\n",
       "      <td>Oliver, H, Tam</td>\n",
       "      <td>...</td>\n",
       "      <td>NA</td>\n",
       "      <td>71</td>\n",
       "      <td>Substantia nigra, prefrontal cortex, amygdala,...</td>\n",
       "      <td>Late stage PD &amp; control</td>\n",
       "      <td>NA</td>\n",
       "      <td>NA</td>\n",
       "      <td>Creative Commons Attribution license CC BY 4.0</td>\n",
       "      <td>NA</td>\n",
       "      <td>v2.1_20241101</td>\n",
       "      <td>NA</td>\n",
       "    </tr>\n",
       "  </tbody>\n",
       "</table>\n",
       "<p>1 rows × 24 columns</p>\n",
       "</div>"
      ],
      "text/plain": [
       "   ASAP_team_name     ASAP_lab_name  \\\n",
       "0  TEAM-JAKOBSSON  Gale Hammell Lab   \n",
       "\n",
       "                                        project_name team_dataset_id  \\\n",
       "0  Activation of transposable elements as a trigg...       sn_rnaseq   \n",
       "\n",
       "                                     project_dataset  \\\n",
       "0  Single nuclei sequencing of brain regions from...   \n",
       "\n",
       "                                 project_description         PI_full_name  \\\n",
       "0  A range of genetic, clinical and pathological ...  Molly, Gale Hammell   \n",
       "\n",
       "                           PI_email  \\\n",
       "0  Molly.GaleHammell@nyulangone.org   \n",
       "\n",
       "                                   contributor_names  submitter_name  ...  \\\n",
       "0  Anita, Adami; Talitha, Forcier; Raquel, Garza;...  Oliver, H, Tam  ...   \n",
       "\n",
       "  publication_PMID number_of_brain_samples  \\\n",
       "0               NA                      71   \n",
       "\n",
       "                                       brain_regions         types_of_samples  \\\n",
       "0  Substantia nigra, prefrontal cortex, amygdala,...  Late stage PD & control   \n",
       "\n",
       "  PI_ORCHID PI_google_scholar_id  \\\n",
       "0        NA                   NA   \n",
       "\n",
       "                                      DUA_version preprocessing_references  \\\n",
       "0  Creative Commons Attribution license CC BY 4.0                       NA   \n",
       "\n",
       "  metadata_version_date alternate_dataset_id  \n",
       "0         v2.1_20241101                   NA  \n",
       "\n",
       "[1 rows x 24 columns]"
      ]
     },
     "execution_count": 45,
     "metadata": {},
     "output_type": "execute_result"
    }
   ],
   "source": [
    "v2_tables['STUDY']"
   ]
  },
  {
   "cell_type": "markdown",
   "metadata": {},
   "source": [
    "-------------------------\n",
    "## check md5s\n",
    "\n"
   ]
  },
  {
   "cell_type": "code",
   "execution_count": 46,
   "metadata": {},
   "outputs": [
    {
     "name": "stdout",
     "output_type": "stream",
     "text": [
      "jakobsson\n",
      "CompletedProcess(args='gcloud auth activate-service-account --key-file=/Users/ergonyc/Projects/ASAP/jakobsson-credentials.json', returncode=0, stdout='', stderr='Activated service account credentials for: [raw-admin-jakobsson@dnastack-asap-parkinsons.iam.gserviceaccount.com]\\n')\n",
      "gsutil -u dnastack-asap-parkinsons hash -h gs://asap-raw-team-jakobsson-pmdbs-sn-rnaseq/**/*.gz\n"
     ]
    }
   ],
   "source": [
    "print(team)\n",
    "\n",
    "source = \"pmdbs\"\n",
    "\n",
    "bucket = f\"asap-raw-team-{team}-{source}-{dataset_name}\"\n",
    "\n",
    "\n",
    "key_file_path = Path.home() / f\"Projects/ASAP/{team}-credentials.json\"\n",
    "\n",
    "res = authenticate_with_service_account(key_file_path)\n",
    "print(res)\n",
    "\n",
    "# make sure to get ALL the fastq files in the bucket\n",
    "prefix = \"**/*.gz\"\n",
    "bucket_files_md5 = get_md5_hashes( bucket, prefix)"
   ]
  },
  {
   "cell_type": "code",
   "execution_count": 47,
   "metadata": {},
   "outputs": [
    {
     "name": "stderr",
     "output_type": "stream",
     "text": [
      "/var/folders/0z/hvx6j8cn6yj3bqbyq6rtsxm40000gn/T/ipykernel_52979/1352623229.py:5: SettingWithCopyWarning: \n",
      "A value is trying to be set on a copy of a slice from a DataFrame.\n",
      "Try using .loc[row_indexer,col_indexer] = value instead\n",
      "\n",
      "See the caveats in the documentation: https://pandas.pydata.org/pandas-docs/stable/user_guide/indexing.html#returning-a-view-versus-a-copy\n",
      "  checksum['check2'] = checksum['file_name'].map(bucket_files_md5)\n",
      "/var/folders/0z/hvx6j8cn6yj3bqbyq6rtsxm40000gn/T/ipykernel_52979/1352623229.py:6: SettingWithCopyWarning: \n",
      "A value is trying to be set on a copy of a slice from a DataFrame.\n",
      "Try using .loc[row_indexer,col_indexer] = value instead\n",
      "\n",
      "See the caveats in the documentation: https://pandas.pydata.org/pandas-docs/stable/user_guide/indexing.html#returning-a-view-versus-a-copy\n",
      "  checksum['check1'] = checksum['file_MD5']\n"
     ]
    },
    {
     "data": {
      "text/plain": [
       "[]"
      ]
     },
     "execution_count": 47,
     "metadata": {},
     "output_type": "execute_result"
    }
   ],
   "source": [
    "# def check_md5_sums()\n",
    "\n",
    "\n",
    "checksum = v3_tables['DATA'][['file_name','file_MD5']]\n",
    "checksum['check2'] = checksum['file_name'].map(bucket_files_md5)\n",
    "checksum['check1'] = checksum['file_MD5']\n",
    "checksum[checksum.check1 != checksum.check2].file_name.to_list()\n",
    "#empty means success!!"
   ]
  },
  {
   "cell_type": "markdown",
   "metadata": {},
   "source": [
    "_____\n",
    "\n",
    "## prep metadata in raw data bucket\n",
    "\n",
    "steps:\n",
    "- 1. archive whats there.  i.e. move to metadata/upload\n",
    "- 2. copy metadata/upload to dataset upload (upload subdir)"
   ]
  },
  {
   "cell_type": "code",
   "execution_count": 48,
   "metadata": {},
   "outputs": [
    {
     "name": "stdout",
     "output_type": "stream",
     "text": [
      "gsutil -u dnastack-asap-parkinsons ls gs://asap-raw-team-jakobsson-pmdbs-sn-rnaseq/metadata\n",
      "gsutil command succeeded: gs://asap-raw-team-jakobsson-pmdbs-sn-rnaseq/metadata/upload/\n",
      "\n"
     ]
    }
   ],
   "source": [
    "metadata_subdir = \"metadata\"\n",
    "current_files = gsutil_ls(bucket,metadata_subdir)"
   ]
  },
  {
   "cell_type": "code",
   "execution_count": 49,
   "metadata": {},
   "outputs": [
    {
     "name": "stdout",
     "output_type": "stream",
     "text": [
      "gsutil -u dnastack-asap-parkinsons mv -r gs://asap-raw-team-jakobsson-pmdbs-sn-rnaseq/metadata/upload gs://asap-raw-team-jakobsson-pmdbs-sn-rnaseq/metadata/upload/upload\n",
      "gsutil command succeeded: \n"
     ]
    }
   ],
   "source": [
    "metadata_subdir2 = \"metadata/upload\"\n",
    "bucket = current_files[0].split(\"/\")[2]\n",
    "\n",
    "for file in current_files:\n",
    "    if file == \"\":\n",
    "        continue\n",
    "    file_nm = Path(file).name\n",
    "    is_dir = not file_nm.__contains__(\".\")\n",
    "\n",
    "    source = f\"gs://{bucket}/{metadata_subdir}/{file_nm}\"\n",
    "\n",
    "    destination = f\"gs://{bucket}/{metadata_subdir2}/{file_nm}\"\n",
    "    gsutil_mv(source, destination, is_dir)"
   ]
  },
  {
   "cell_type": "code",
   "execution_count": 50,
   "metadata": {},
   "outputs": [
    {
     "name": "stdout",
     "output_type": "stream",
     "text": [
      "gsutil -u dnastack-asap-parkinsons ls gs://asap-raw-team-jakobsson-pmdbs-sn-rnaseq/metadata/upload\n",
      "gsutil command succeeded: gs://asap-raw-team-jakobsson-pmdbs-sn-rnaseq/metadata/upload/upload/\n",
      "\n"
     ]
    }
   ],
   "source": [
    "\n",
    "metadata_subdir = \"metadata/upload\"\n",
    "current_files = gsutil_ls(bucket,metadata_subdir)"
   ]
  },
  {
   "cell_type": "markdown",
   "metadata": {},
   "source": [
    "Archive the uploaded metadata locally\n",
    "\n"
   ]
  },
  {
   "cell_type": "code",
   "execution_count": 51,
   "metadata": {},
   "outputs": [],
   "source": [
    "file_source = f\"gs://{bucket}/{metadata_subdir}\"\n",
    "destination = f\"{metadata_path}\""
   ]
  },
  {
   "cell_type": "code",
   "execution_count": 52,
   "metadata": {},
   "outputs": [
    {
     "name": "stdout",
     "output_type": "stream",
     "text": [
      "gsutil -u dnastack-asap-parkinsons cp -r gs://asap-raw-team-jakobsson-pmdbs-sn-rnaseq/metadata/upload /Users/ergonyc/Projects/ASAP/data/teams/jakobsson/sn-rnaseq/metadata\n",
      "gsutil command succeeded: \n"
     ]
    },
    {
     "data": {
      "text/plain": [
       "''"
      ]
     },
     "execution_count": 52,
     "metadata": {},
     "output_type": "execute_result"
    }
   ],
   "source": [
    "\n",
    "is_dir = True\n",
    "gsutil_cp(file_source, destination, is_dir)"
   ]
  },
  {
   "cell_type": "markdown",
   "metadata": {},
   "source": [
    "--------------------\n",
    "## Create metadata package\n",
    "\n",
    "This will copy the final updated to v3.0 metadata to `asap-could-processing-resources`\n"
   ]
  },
  {
   "cell_type": "code",
   "execution_count": 53,
   "metadata": {},
   "outputs": [
    {
     "data": {
      "text/plain": [
       "(PosixPath('/Users/ergonyc/Projects/ASAP/data/teams/jakobsson/sn-rnaseq/metadata'),\n",
       " PosixPath('/Users/ergonyc/Projects/ASAP/asap-crn-metadata/datasets/jakobsson-pmdbs-sn-rnaseq'))"
      ]
     },
     "execution_count": 53,
     "metadata": {},
     "output_type": "execute_result"
    }
   ],
   "source": [
    "metadata_source = metadata_path\n",
    "\n",
    "\n",
    "source = \"pmdbs\"\n",
    "archive_root = Path.home() / \"Projects/ASAP/asap-crn-metadata/datasets\"\n",
    "dataset_path = archive_root / f\"{team}-{source}-{dataset_name}\"\n",
    "# bucket = f\"asap-raw-data-team-{team}\" # for now old locations\n",
    "metadata_source, dataset_path"
   ]
  },
  {
   "cell_type": "markdown",
   "metadata": {},
   "source": [
    "________"
   ]
  },
  {
   "cell_type": "code",
   "execution_count": 54,
   "metadata": {},
   "outputs": [
    {
     "name": "stdout",
     "output_type": "stream",
     "text": [
      "Skipping empty folder /Users/ergonyc/Projects/ASAP/data/teams/jakobsson/sn-rnaseq/metadata/v1\n",
      "Copied /Users/ergonyc/Projects/ASAP/data/teams/jakobsson/sn-rnaseq/metadata/v2 to /Users/ergonyc/Projects/ASAP/asap-crn-metadata/datasets/jakobsson-pmdbs-sn-rnaseq/metadata/v2\n",
      "Copied /Users/ergonyc/Projects/ASAP/data/teams/jakobsson/sn-rnaseq/metadata/v3 to /Users/ergonyc/Projects/ASAP/asap-crn-metadata/datasets/jakobsson-pmdbs-sn-rnaseq/metadata/v3\n",
      "Copied /Users/ergonyc/Projects/ASAP/data/teams/jakobsson/sn-rnaseq/metadata/og to /Users/ergonyc/Projects/ASAP/asap-crn-metadata/datasets/jakobsson-pmdbs-sn-rnaseq/metadata/og\n",
      "Copied /Users/ergonyc/Projects/ASAP/data/teams/jakobsson/sn-rnaseq/metadata/upload to /Users/ergonyc/Projects/ASAP/asap-crn-metadata/datasets/jakobsson-pmdbs-sn-rnaseq/metadata/upload\n"
     ]
    }
   ],
   "source": [
    "fnms = create_metadata_package(metadata_source, dataset_path)\n"
   ]
  },
  {
   "cell_type": "markdown",
   "metadata": {},
   "source": [
    "_____\n",
    "\n",
    "generate ASAP IDs + transfering back to raw data bucket via `asap-crn-metadata` "
   ]
  },
  {
   "cell_type": "markdown",
   "metadata": {},
   "source": [
    "_____\n",
    "\n",
    "## transfer metadata to raw data bucket\n",
    "\n",
    "steps:\n",
    "- 1. archive whats there.  i.e. move to metadata/archive\n",
    "- 2. copy package to metadata/ . i.e. /og/*.csv, /v??/*.csv"
   ]
  },
  {
   "cell_type": "code",
   "execution_count": null,
   "metadata": {},
   "outputs": [],
   "source": []
  },
  {
   "cell_type": "markdown",
   "metadata": {},
   "source": [
    "______________"
   ]
  },
  {
   "cell_type": "code",
   "execution_count": null,
   "metadata": {},
   "outputs": [],
   "source": []
  },
  {
   "cell_type": "code",
   "execution_count": null,
   "metadata": {},
   "outputs": [],
   "source": []
  },
  {
   "cell_type": "code",
   "execution_count": null,
   "metadata": {},
   "outputs": [],
   "source": []
  }
 ],
 "metadata": {
  "kernelspec": {
   "display_name": "nb_env",
   "language": "python",
   "name": "python3"
  },
  "language_info": {
   "codemirror_mode": {
    "name": "ipython",
    "version": 3
   },
   "file_extension": ".py",
   "mimetype": "text/x-python",
   "name": "python",
   "nbconvert_exporter": "python",
   "pygments_lexer": "ipython3",
   "version": "3.11.9"
  }
 },
 "nbformat": 4,
 "nbformat_minor": 2
}
