{
 "cells": [
  {
   "cell_type": "code",
   "execution_count": null,
   "metadata": {},
   "outputs": [],
   "source": []
  },
  {
   "cell_type": "markdown",
   "metadata": {},
   "source": [
    "ASAP CRN Metadata compilation\n",
    "\n",
    "# Team Hardy. ASAP CRN Metadata scrubbing\n",
    "\n",
    "confirm with Team Hardy bulkRNAseq metadata\n",
    "\n",
    "16 Oct 2024\n",
    "Andy Henrie\n",
    "\n",
    "\n",
    "\n"
   ]
  },
  {
   "cell_type": "code",
   "execution_count": 1,
   "metadata": {},
   "outputs": [
    {
     "name": "stdout",
     "output_type": "stream",
     "text": [
      "Streamlit NOT successfully imported\n"
     ]
    }
   ],
   "source": [
    "import pandas as pd\n",
    "from pathlib import Path\n",
    "import os, sys\n",
    "\n",
    "sys.path.append(os.path.abspath((os.path.join(os.getcwd(), 'src/crn_utils'))))\n",
    "\n",
    "from util import read_CDE, NULL, prep_table, read_meta_table, create_metadata_package\n",
    "from validate import validate_table, ReportCollector\n",
    "from update_schema import v1_to_v2, v2_to_v3_PMDBS, intervention_typer\n",
    "from checksums import extract_md5_from_details2, get_md5_hashes \n",
    "from bucket_util import authenticate_with_service_account, gsutil_ls, gsutil_cp, gsutil_mv \n",
    "\n",
    "%load_ext autoreload\n",
    "%autoreload 2\n",
    "\n",
    "root_path = Path.home() / (\"Projects/ASAP/data/teams\")\n"
   ]
  },
  {
   "cell_type": "markdown",
   "metadata": {},
   "source": [
    "## CDEs\n",
    "load the relavent CDEs"
   ]
  },
  {
   "cell_type": "code",
   "execution_count": 2,
   "metadata": {},
   "outputs": [
    {
     "name": "stdout",
     "output_type": "stream",
     "text": [
      "metadata_version: ASAP_CDE_v1\n",
      "https://docs.google.com/spreadsheets/d/1c0z5KvRELdT2AtQAH2Dus8kwAyyLrR0CROhKOjpU4Vc/gviz/tq?tqx=out:csv&sheet=v1\n",
      "/Users/ergonyc/Projects/ASAP/crn-utils/resource/CDE/ASAP_CDE_v1.csv\n",
      "read local file\n",
      "metadata_version: ASAP_CDE_v2.1\n",
      "https://docs.google.com/spreadsheets/d/1c0z5KvRELdT2AtQAH2Dus8kwAyyLrR0CROhKOjpU4Vc/gviz/tq?tqx=out:csv&sheet=v2.1\n",
      "/Users/ergonyc/Projects/ASAP/crn-utils/resource/CDE/ASAP_CDE_v2.1.csv\n",
      "read local file\n",
      "metadata_version: ASAP_CDE_v3.0\n",
      "https://docs.google.com/spreadsheets/d/1c0z5KvRELdT2AtQAH2Dus8kwAyyLrR0CROhKOjpU4Vc/gviz/tq?tqx=out:csv&sheet=v3.0\n",
      "/Users/ergonyc/Projects/ASAP/crn-utils/resource/CDE/ASAP_CDE_v3.0.csv\n",
      "read local file\n"
     ]
    }
   ],
   "source": [
    "schema_version = \"v1\"\n",
    "schema_path = Path.home() / \"Projects/ASAP/crn-utils/resource/CDE\"\n",
    "CDEv1 = read_CDE(schema_version, local_path=schema_path)\n",
    "schema_version = \"v2.1\"\n",
    "CDEv2 = read_CDE(schema_version, local_path=schema_path)\n",
    "schema_version = \"v3.0\"\n",
    "CDEv3 = read_CDE(schema_version, local_path=schema_path)"
   ]
  },
  {
   "cell_type": "markdown",
   "metadata": {},
   "source": [
    "## Load original tables \n",
    "These were submitted v3.0 (actually  v3.0.0 beta)\n"
   ]
  },
  {
   "cell_type": "markdown",
   "metadata": {},
   "source": [
    "Team Hardy bulk-rnaseq\n"
   ]
  },
  {
   "cell_type": "code",
   "execution_count": 3,
   "metadata": {},
   "outputs": [],
   "source": [
    "## convert \n",
    "team = \"hardy\"\n",
    "dataset_name = \"bulk-rnaseq\"\n",
    "\n",
    "metadata_path = root_path / f\"{team}/{dataset_name}/metadata/\"\n",
    "v3_path = metadata_path / \"v3\"\n",
    "og_path = metadata_path / \"og\"\n",
    "\n",
    "v3_meta_tables = ['STUDY', 'PROTOCOL', 'SUBJECT', 'SAMPLE', 'DATA', 'CLINPATH', 'PMDBS', 'CONDITION', 'ASSAY_RNAseq']\n",
    "og_meta_tables = ['STUDY', 'PROTOCOL', 'SUBJECT', 'SAMPLE', 'DATA', 'CLINPATH', 'PMDBS', 'CONDITION', 'ASSAY_bulkRNAseq']\n",
    "\n",
    "in_tables = [table_name for table_name in og_meta_tables if f\"{table_name}.csv\" in os.listdir(og_path)]\n"
   ]
  },
  {
   "cell_type": "code",
   "execution_count": 4,
   "metadata": {},
   "outputs": [],
   "source": [
    "og_tables = {}\n",
    "for table_name in in_tables:\n",
    "    df = read_meta_table(f\"{og_path}/{table_name}.csv\")\n",
    "    og_tables[table_name] = df\n",
    "    "
   ]
  },
  {
   "cell_type": "code",
   "execution_count": 5,
   "metadata": {},
   "outputs": [
    {
     "data": {
      "text/plain": [
       "dict_keys(['STUDY', 'PROTOCOL', 'SUBJECT', 'SAMPLE', 'DATA', 'CLINPATH', 'PMDBS', 'CONDITION', 'ASSAY_bulkRNAseq'])"
      ]
     },
     "execution_count": 5,
     "metadata": {},
     "output_type": "execute_result"
    }
   ],
   "source": [
    "og_tables.keys()"
   ]
  },
  {
   "cell_type": "code",
   "execution_count": 6,
   "metadata": {},
   "outputs": [
    {
     "data": {
      "text/html": [
       "<div>\n",
       "<style scoped>\n",
       "    .dataframe tbody tr th:only-of-type {\n",
       "        vertical-align: middle;\n",
       "    }\n",
       "\n",
       "    .dataframe tbody tr th {\n",
       "        vertical-align: top;\n",
       "    }\n",
       "\n",
       "    .dataframe thead th {\n",
       "        text-align: right;\n",
       "    }\n",
       "</style>\n",
       "<table border=\"1\" class=\"dataframe\">\n",
       "  <thead>\n",
       "    <tr style=\"text-align: right;\">\n",
       "      <th></th>\n",
       "      <th>ASAP_team_name</th>\n",
       "      <th>ASAP_lab_name</th>\n",
       "      <th>project_name</th>\n",
       "      <th>team_dataset_id</th>\n",
       "      <th>project_dataset</th>\n",
       "      <th>project_description</th>\n",
       "      <th>PI_full_name</th>\n",
       "      <th>PI_email</th>\n",
       "      <th>contributor_names</th>\n",
       "      <th>submitter_name</th>\n",
       "      <th>...</th>\n",
       "      <th>publication_PMID</th>\n",
       "      <th>number_samples</th>\n",
       "      <th>sample_types</th>\n",
       "      <th>types_of_samples</th>\n",
       "      <th>DUA_version</th>\n",
       "      <th>PI_ORCHID</th>\n",
       "      <th>PI_google_scholar_id</th>\n",
       "      <th>preprocessing_references</th>\n",
       "      <th>metadata_version_date</th>\n",
       "      <th>alternate_dataset_id</th>\n",
       "    </tr>\n",
       "  </thead>\n",
       "  <tbody>\n",
       "    <tr>\n",
       "      <th>0</th>\n",
       "      <td>TEAM-HARDY</td>\n",
       "      <td>Ryten Lab</td>\n",
       "      <td>Understanding mechanisms of Parkinson's diseas...</td>\n",
       "      <td>Hardy_bulkrnaseq</td>\n",
       "      <td>Hardy_bulkrnaseq_pm_hs</td>\n",
       "      <td>Genetic analysis has identified many risk gene...</td>\n",
       "      <td>Mina Ryten</td>\n",
       "      <td>mina.ryten@ucl.ac.uk</td>\n",
       "      <td>Aine Fairbrother-Browne, Jonathan Brenton, Mel...</td>\n",
       "      <td>Jonathan Brenton</td>\n",
       "      <td>...</td>\n",
       "      <td>NA</td>\n",
       "      <td>288</td>\n",
       "      <td>Anterior Cingulate Cortex (ACG), Inferior Pari...</td>\n",
       "      <td>Late stage (Braak 6) PD and control post-morte...</td>\n",
       "      <td>0000-0001-9520-6957</td>\n",
       "      <td>https://scholar.google.co.uk/citations?user=lt...</td>\n",
       "      <td>NA</td>\n",
       "      <td>Version 3.0 - beta, 08/2024</td>\n",
       "      <td>NA</td>\n",
       "      <td>NA</td>\n",
       "    </tr>\n",
       "  </tbody>\n",
       "</table>\n",
       "<p>1 rows × 24 columns</p>\n",
       "</div>"
      ],
      "text/plain": [
       "  ASAP_team_name ASAP_lab_name  \\\n",
       "0     TEAM-HARDY     Ryten Lab   \n",
       "\n",
       "                                        project_name   team_dataset_id  \\\n",
       "0  Understanding mechanisms of Parkinson's diseas...  Hardy_bulkrnaseq   \n",
       "\n",
       "          project_dataset                                project_description  \\\n",
       "0  Hardy_bulkrnaseq_pm_hs  Genetic analysis has identified many risk gene...   \n",
       "\n",
       "  PI_full_name              PI_email  \\\n",
       "0   Mina Ryten  mina.ryten@ucl.ac.uk   \n",
       "\n",
       "                                   contributor_names    submitter_name  ...  \\\n",
       "0  Aine Fairbrother-Browne, Jonathan Brenton, Mel...  Jonathan Brenton  ...   \n",
       "\n",
       "  publication_PMID number_samples  \\\n",
       "0               NA            288   \n",
       "\n",
       "                                        sample_types  \\\n",
       "0  Anterior Cingulate Cortex (ACG), Inferior Pari...   \n",
       "\n",
       "                                    types_of_samples          DUA_version  \\\n",
       "0  Late stage (Braak 6) PD and control post-morte...  0000-0001-9520-6957   \n",
       "\n",
       "                                           PI_ORCHID PI_google_scholar_id  \\\n",
       "0  https://scholar.google.co.uk/citations?user=lt...                   NA   \n",
       "\n",
       "      preprocessing_references metadata_version_date alternate_dataset_id  \n",
       "0  Version 3.0 - beta, 08/2024                    NA                   NA  \n",
       "\n",
       "[1 rows x 24 columns]"
      ]
     },
     "execution_count": 6,
     "metadata": {},
     "output_type": "execute_result"
    }
   ],
   "source": [
    "og_tables['STUDY']"
   ]
  },
  {
   "cell_type": "code",
   "execution_count": 7,
   "metadata": {},
   "outputs": [],
   "source": [
    "# rationalize the team_dataset_id\n",
    "og_tables['STUDY']['team_dataset_id'] = dataset_name.replace(\"-\", \"_\").replace(\" \", \"_\")\n",
    "\n",
    "# fix the PI_ORCID and PI_google_scholar_id\n",
    "og_tables['STUDY']['PI_google_scholar_id'] = og_tables['STUDY']['PI_ORCHID']\n",
    "og_tables['STUDY']['PI_ORCHID'] = \"0000-0001-9520-6957\"\n",
    "# rename PI_ORCHID to PI_ORCID\n",
    "og_tables['STUDY'].rename(columns={\"PI_ORCHID\": \"PI_ORCID\"}, inplace=True)"
   ]
  },
  {
   "cell_type": "code",
   "execution_count": 8,
   "metadata": {},
   "outputs": [
    {
     "name": "stdout",
     "output_type": "stream",
     "text": [
      "recoding number_samples as int\n",
      "🚨⚠️❗ **Missing Required Fields in STUDY: metadata_tables**\n",
      "🚨⚠️❗ **5 Fields with empty (NULL) values:**\n",
      "\n",
      "\t- other_funding_source: 1/1 empty rows (REQUIRED)\n",
      "\n",
      "\t- publication_DOI: 1/1 empty rows (REQUIRED)\n",
      "\n",
      "\t- publication_PMID: 1/1 empty rows (REQUIRED)\n",
      "\n",
      "\t- metadata_version_date: 1/1 empty rows (OPTIONAL)\n",
      "\n",
      "\t- alternate_dataset_id: 1/1 empty rows (OPTIONAL)\n",
      "No invalid entries found in Enum fields.\n",
      "\n",
      "All required fields are present in *PROTOCOL* table.\n",
      "🚨⚠️❗ **3 Fields with empty (NULL) values:**\n",
      "\n",
      "\t- cell_extraction_summary: 1/1 empty rows (REQUIRED)\n",
      "\n",
      "\t- protocols_io_DOI: 1/1 empty rows (REQUIRED)\n",
      "\n",
      "\t- other_reference: 1/1 empty rows (OPTIONAL)\n",
      "No invalid entries found in Enum fields.\n",
      "\n",
      "All required fields are present in *SUBJECT* table.\n",
      "No empty entries (NULL) found .\n",
      "No invalid entries found in Enum fields.\n",
      "🚨⚠️❗ **Extra field in SUBJECT: organism**\n",
      "🚨⚠️❗ **Extra field in SUBJECT: ethnicity**\n",
      "🚨⚠️❗ **Extra field in SUBJECT: GP2_id**\n",
      "🚨⚠️❗ **Extra field in SUBJECT: age_at_diagnosis**\n",
      "\n",
      "recoding replicate_count as int\n",
      "recoding repeated_sample as int\n",
      "🚨⚠️❗ **Missing Required Fields in SAMPLE: organism, assay_type, condition_id, organism_ontology_term_id**\n",
      "🚨⚠️❗ **Missing Optional Fields in SAMPLE: time, development_stage_ontology_term_id, sex_ontology_term_id, self_reported_ethnicity_ontology_term_id, disease_ontology_term_id, tissue_ontology_term_id, assay_ontology_term_id, donor_id, pm_PH, cell_type_ontology_term_id, source_RIN, DV200, suspension_type**\n",
      "No empty entries (NULL) found .\n",
      "No invalid entries found in Enum fields.\n",
      "🚨⚠️❗ **Extra field in SAMPLE: condition**\n",
      "\n",
      "recoding replicate_count as int\n",
      "recoding repeated_sample as int\n",
      "All required fields are present in *DATA* table.\n",
      "🚨⚠️❗ **Missing Optional Fields in DATA: header, annotation, configuration_file**\n",
      "No empty entries (NULL) found .\n",
      "No invalid entries found in Enum fields.\n",
      "\n",
      "All required fields are present in *CLINPATH* table.\n",
      "🚨⚠️❗ **Missing Optional Fields in CLINPATH: AMPPD_id, GP2_id, ethnicity, family_history, last_diagnosis, age_at_onset, age_at_diagnosis, first_motor_symptom, hx_dementia_mci, hx_melanoma, education_level, smoking_status, smoking_years, APOE_e4_status, cognitive_status, time_from_baseline, path_year_death, path_nia_ri**\n",
      "🚨⚠️❗ **20 Fields with empty (NULL) values:**\n",
      "\n",
      "\t- duration_pmi: 4/288 empty rows (REQUIRED)\n",
      "\n",
      "\t- path_autopsy_third_dx: 288/288 empty rows (OPTIONAL)\n",
      "\n",
      "\t- path_autopsy_fourth_dx: 288/288 empty rows (OPTIONAL)\n",
      "\n",
      "\t- path_autopsy_fifth_dx: 288/288 empty rows (OPTIONAL)\n",
      "\n",
      "\t- path_autopsy_sixth_dx: 288/288 empty rows (OPTIONAL)\n",
      "\n",
      "\t- path_autopsy_seventh_dx: 288/288 empty rows (OPTIONAL)\n",
      "\n",
      "\t- path_autopsy_eight_dx: 288/288 empty rows (OPTIONAL)\n",
      "\n",
      "\t- cause_death: 32/288 empty rows (OPTIONAL)\n",
      "\n",
      "\t- other_cause_death_1: 288/288 empty rows (OPTIONAL)\n",
      "\n",
      "\t- other_cause_death_2: 288/288 empty rows (OPTIONAL)\n",
      "\n",
      "\t- brain_weight: 288/288 empty rows (OPTIONAL)\n",
      "\n",
      "\t- path_cerad: 116/288 empty rows (OPTIONAL)\n",
      "\n",
      "\t- known_pathogenic_mutation: 288/288 empty rows (OPTIONAL)\n",
      "\n",
      "\t- PD_pathogenic_mutation: 288/288 empty rows (OPTIONAL)\n",
      "\n",
      "\t- sn_neuronal_loss: 288/288 empty rows (OPTIONAL)\n",
      "\n",
      "\t- path_infarcs: 288/288 empty rows (OPTIONAL)\n",
      "\n",
      "\t- TDP43: 288/288 empty rows (OPTIONAL)\n",
      "\n",
      "\t- arteriolosclerosis_severity_scale: 288/288 empty rows (OPTIONAL)\n",
      "\n",
      "\t- amyloid_angiopathy_severity_scale: 288/288 empty rows (OPTIONAL)\n",
      "\n",
      "\t- path_ad_level: 4/288 empty rows (OPTIONAL)\n",
      "No invalid entries found in Enum fields.\n",
      "\n",
      "All required fields are present in *PMDBS* table.\n",
      "No empty entries (NULL) found .\n",
      "No invalid entries found in Enum fields.\n",
      "\n",
      "All required fields are present in *CONDITION* table.\n",
      "🚨⚠️❗ **2 Fields with empty (NULL) values:**\n",
      "\n",
      "\t- protocol_id: 4/4 empty rows (REQUIRED)\n",
      "\n",
      "\t- intervention_aux_table: 4/4 empty rows (OPTIONAL)\n",
      "No invalid entries found in Enum fields.\n",
      "\n",
      "recoding sequencing_length as int\n",
      "🚨⚠️❗ **Missing Required Fields in ASSAY_RNAseq: input_cell_count**\n",
      "No empty entries (NULL) found .\n",
      "No invalid entries found in Enum fields.\n",
      "🚨⚠️❗ **Extra field in ASSAY_RNAseq: hemisphere**\n",
      "🚨⚠️❗ **Extra field in ASSAY_RNAseq: region_level_1**\n",
      "🚨⚠️❗ **Extra field in ASSAY_RNAseq: region_level_2**\n",
      "🚨⚠️❗ **Extra field in ASSAY_RNAseq: region_level_3**\n",
      "🚨⚠️❗ **Extra field in ASSAY_RNAseq: fragment_library_types**\n",
      "\n"
     ]
    }
   ],
   "source": [
    "CDE = CDEv3\n",
    "dfs = {}\n",
    "for table,df in og_tables.items():\n",
    "    if table == \"ASSAY_bulkRNAseq\":\n",
    "        table = \"ASSAY_RNAseq\"\n",
    "\n",
    "    schema = CDE[CDE['Table'] == table]\n",
    "\n",
    "    report = ReportCollector(destination=\"NA\")\n",
    "    full_table, report = validate_table(df.copy(), table, schema, report)\n",
    "    report.print_log()\n",
    "    dfs[table] = full_table"
   ]
  },
  {
   "cell_type": "code",
   "execution_count": 9,
   "metadata": {},
   "outputs": [],
   "source": [
    "STUDY = dfs['STUDY']\n",
    "PROTOCOL = dfs['PROTOCOL']\n",
    "SUBJECT = dfs['SUBJECT']\n",
    "SAMPLE = dfs['SAMPLE']\n",
    "DATA = dfs['DATA']\n",
    "CLINPATH = dfs['CLINPATH']\n",
    "PMDBS = dfs['PMDBS']\n",
    "ASSAY_RNAseq = dfs['ASSAY_RNAseq']"
   ]
  },
  {
   "cell_type": "code",
   "execution_count": 10,
   "metadata": {},
   "outputs": [
    {
     "data": {
      "text/html": [
       "<div>\n",
       "<style scoped>\n",
       "    .dataframe tbody tr th:only-of-type {\n",
       "        vertical-align: middle;\n",
       "    }\n",
       "\n",
       "    .dataframe tbody tr th {\n",
       "        vertical-align: top;\n",
       "    }\n",
       "\n",
       "    .dataframe thead th {\n",
       "        text-align: right;\n",
       "    }\n",
       "</style>\n",
       "<table border=\"1\" class=\"dataframe\">\n",
       "  <thead>\n",
       "    <tr style=\"text-align: right;\">\n",
       "      <th></th>\n",
       "      <th>ASAP_team_name</th>\n",
       "      <th>ASAP_lab_name</th>\n",
       "      <th>project_name</th>\n",
       "      <th>team_dataset_id</th>\n",
       "      <th>project_dataset</th>\n",
       "      <th>project_description</th>\n",
       "      <th>PI_full_name</th>\n",
       "      <th>PI_email</th>\n",
       "      <th>contributor_names</th>\n",
       "      <th>submitter_name</th>\n",
       "      <th>...</th>\n",
       "      <th>number_samples</th>\n",
       "      <th>sample_types</th>\n",
       "      <th>types_of_samples</th>\n",
       "      <th>DUA_version</th>\n",
       "      <th>PI_ORCID</th>\n",
       "      <th>PI_google_scholar_id</th>\n",
       "      <th>preprocessing_references</th>\n",
       "      <th>metadata_version_date</th>\n",
       "      <th>alternate_dataset_id</th>\n",
       "      <th>metadata_tables</th>\n",
       "    </tr>\n",
       "  </thead>\n",
       "  <tbody>\n",
       "    <tr>\n",
       "      <th>0</th>\n",
       "      <td>TEAM-HARDY</td>\n",
       "      <td>Ryten Lab</td>\n",
       "      <td>Understanding mechanisms of Parkinson's diseas...</td>\n",
       "      <td>bulk_rnaseq</td>\n",
       "      <td>Hardy_bulkrnaseq_pm_hs</td>\n",
       "      <td>Genetic analysis has identified many risk gene...</td>\n",
       "      <td>Mina Ryten</td>\n",
       "      <td>mina.ryten@ucl.ac.uk</td>\n",
       "      <td>Aine Fairbrother-Browne, Jonathan Brenton, Mel...</td>\n",
       "      <td>Jonathan Brenton</td>\n",
       "      <td>...</td>\n",
       "      <td>288</td>\n",
       "      <td>Anterior Cingulate Cortex (ACG), Inferior Pari...</td>\n",
       "      <td>Late stage (Braak 6) PD and control post-morte...</td>\n",
       "      <td>0000-0001-9520-6957</td>\n",
       "      <td>0000-0001-9520-6957</td>\n",
       "      <td>https://scholar.google.co.uk/citations?user=lt...</td>\n",
       "      <td>Version 3.0 - beta, 08/2024</td>\n",
       "      <td>NA</td>\n",
       "      <td>NA</td>\n",
       "      <td>NA</td>\n",
       "    </tr>\n",
       "  </tbody>\n",
       "</table>\n",
       "<p>1 rows × 25 columns</p>\n",
       "</div>"
      ],
      "text/plain": [
       "  ASAP_team_name ASAP_lab_name  \\\n",
       "0     TEAM-HARDY     Ryten Lab   \n",
       "\n",
       "                                        project_name team_dataset_id  \\\n",
       "0  Understanding mechanisms of Parkinson's diseas...     bulk_rnaseq   \n",
       "\n",
       "          project_dataset                                project_description  \\\n",
       "0  Hardy_bulkrnaseq_pm_hs  Genetic analysis has identified many risk gene...   \n",
       "\n",
       "  PI_full_name              PI_email  \\\n",
       "0   Mina Ryten  mina.ryten@ucl.ac.uk   \n",
       "\n",
       "                                   contributor_names    submitter_name  ...  \\\n",
       "0  Aine Fairbrother-Browne, Jonathan Brenton, Mel...  Jonathan Brenton  ...   \n",
       "\n",
       "  number_samples                                       sample_types  \\\n",
       "0            288  Anterior Cingulate Cortex (ACG), Inferior Pari...   \n",
       "\n",
       "                                    types_of_samples          DUA_version  \\\n",
       "0  Late stage (Braak 6) PD and control post-morte...  0000-0001-9520-6957   \n",
       "\n",
       "              PI_ORCID                               PI_google_scholar_id  \\\n",
       "0  0000-0001-9520-6957  https://scholar.google.co.uk/citations?user=lt...   \n",
       "\n",
       "      preprocessing_references metadata_version_date alternate_dataset_id  \\\n",
       "0  Version 3.0 - beta, 08/2024                    NA                   NA   \n",
       "\n",
       "  metadata_tables  \n",
       "0              NA  \n",
       "\n",
       "[1 rows x 25 columns]"
      ]
     },
     "execution_count": 10,
     "metadata": {},
     "output_type": "execute_result"
    }
   ],
   "source": [
    "STUDY"
   ]
  },
  {
   "cell_type": "code",
   "execution_count": 11,
   "metadata": {},
   "outputs": [],
   "source": [
    "STUDY['metadata_tables'] = f\"{v3_meta_tables}\""
   ]
  },
  {
   "cell_type": "code",
   "execution_count": 12,
   "metadata": {},
   "outputs": [],
   "source": [
    "metadata_version = \"v3.0\"\n",
    "METADATA_VERSION_DATE = f\"{metadata_version}_{pd.Timestamp.now().strftime('%Y%m%d')}\"\n",
    "STUDY['metadata_version_date'] = METADATA_VERSION_DATE\n"
   ]
  },
  {
   "cell_type": "markdown",
   "metadata": {},
   "source": []
  },
  {
   "cell_type": "code",
   "execution_count": null,
   "metadata": {},
   "outputs": [],
   "source": [
    "# 🚨⚠️❗ the source_subject_id for this bulk set overlap with the sn Hardy dataset.  However\n",
    "# that dataset specifies different internal subject_ids (e.g. babom, borah, etc.)  Likewise, the sample_id are \n",
    "# inconsistent between the two datasets.  Fortunately, the source_subject_id saves us.  ASAP ID generation\n",
    "# works correctly, and sample / subject IDs are correct at the ASAP_ID level.\n",
    "\n",
    "\n",
    "# fixe the subject_id by adding Hardy and removing the / from the source_subject_id\n",
    "SUBJECT['subject_id'] = \"Hardy_\" + SUBJECT['source_subject_id'].str.replace(\"/\", \"_\")\n",
    "\n",
    "# the subject_id is actually a sample_id, so we will also need to remove duplicates.\n",
    "SUBJECT = SUBJECT.drop_duplicates(subset=['subject_id'])\n",
    "\n",
    "\n",
    "\n",
    "# # fix the 'subject_id' by making a mapper from 'source_subject_id' to 'subject_id' from CLINPATH\n",
    "# subject_mapper = dict(zip(CLINPATH['source_subject_id'], CLINPATH['subject_id']))\n",
    "# SUBJECT['subject_id'] = SUBJECT['source_subject_id'].map(subject_mapper)\n"
   ]
  },
  {
   "cell_type": "code",
   "execution_count": 14,
   "metadata": {},
   "outputs": [
    {
     "name": "stdout",
     "output_type": "stream",
     "text": [
      "All required fields are present in *SUBJECT* table.\n",
      "No empty entries (NULL) found .\n",
      "No invalid entries found in Enum fields.\n",
      "🚨⚠️❗ **Extra field in SUBJECT: organism**\n",
      "🚨⚠️❗ **Extra field in SUBJECT: ethnicity**\n",
      "🚨⚠️❗ **Extra field in SUBJECT: GP2_id**\n",
      "🚨⚠️❗ **Extra field in SUBJECT: age_at_diagnosis**\n",
      "\n"
     ]
    }
   ],
   "source": [
    "table = \"SUBJECT\"\n",
    "schema = CDE[CDE['Table'] == table]\n",
    "\n",
    "report = ReportCollector(destination=\"NA\")\n",
    "full_table, report = validate_table(dfs[table].copy(), table, schema, report)\n",
    "report.print_log()\n"
   ]
  },
  {
   "cell_type": "code",
   "execution_count": 15,
   "metadata": {},
   "outputs": [
    {
     "name": "stdout",
     "output_type": "stream",
     "text": [
      "recoding replicate_count as int\n",
      "recoding repeated_sample as int\n",
      "All required fields are present in *SAMPLE* table.\n",
      "🚨⚠️❗ **17 Fields with empty (NULL) values:**\n",
      "\n",
      "\t- organism: 288/288 empty rows (REQUIRED)\n",
      "\n",
      "\t- assay_type: 288/288 empty rows (REQUIRED)\n",
      "\n",
      "\t- condition_id: 288/288 empty rows (REQUIRED)\n",
      "\n",
      "\t- organism_ontology_term_id: 288/288 empty rows (REQUIRED)\n",
      "\n",
      "\t- time: 288/288 empty rows (OPTIONAL)\n",
      "\n",
      "\t- development_stage_ontology_term_id: 288/288 empty rows (OPTIONAL)\n",
      "\n",
      "\t- sex_ontology_term_id: 288/288 empty rows (OPTIONAL)\n",
      "\n",
      "\t- self_reported_ethnicity_ontology_term_id: 288/288 empty rows (OPTIONAL)\n",
      "\n",
      "\t- disease_ontology_term_id: 288/288 empty rows (OPTIONAL)\n",
      "\n",
      "\t- tissue_ontology_term_id: 288/288 empty rows (OPTIONAL)\n",
      "\n",
      "\t- assay_ontology_term_id: 288/288 empty rows (OPTIONAL)\n",
      "\n",
      "\t- donor_id: 288/288 empty rows (OPTIONAL)\n",
      "\n",
      "\t- pm_PH: 288/288 empty rows (OPTIONAL)\n",
      "\n",
      "\t- cell_type_ontology_term_id: 288/288 empty rows (OPTIONAL)\n",
      "\n",
      "\t- source_RIN: 288/288 empty rows (OPTIONAL)\n",
      "\n",
      "\t- DV200: 288/288 empty rows (OPTIONAL)\n",
      "\n",
      "\t- suspension_type: 288/288 empty rows (OPTIONAL)\n",
      "No invalid entries found in Enum fields.\n",
      "🚨⚠️❗ **Extra field in SAMPLE: condition**\n",
      "\n"
     ]
    }
   ],
   "source": [
    "table = \"SAMPLE\"\n",
    "schema = CDE[CDE['Table'] == table]\n",
    "\n",
    "report = ReportCollector(destination=\"NA\")\n",
    "full_table, report = validate_table(dfs[table].copy(), table, schema, report)\n",
    "report.print_log()"
   ]
  },
  {
   "cell_type": "code",
   "execution_count": 16,
   "metadata": {},
   "outputs": [],
   "source": [
    "# get organism from SUBJECT\n",
    "SAMPLE['organism'] = SUBJECT['organism'].iloc[0]\n",
    "SAMPLE['condition_id'] = SAMPLE['condition'].str.replace(\", \", \"-\").str.replace(\" \", \"_\")\n",
    "SAMPLE['condition_id'].unique()\n",
    "\n",
    "# fixe the subject_id by adding Hardy and removing the / from the source_sample_id\n",
    "SAMPLE['subject_id'] = \"Hardy_\" + SAMPLE['source_sample_id'].str.replace(\"/\", \"_\")\n",
    "SAMPLE['source_sample_id'] = NULL"
   ]
  },
  {
   "cell_type": "code",
   "execution_count": 17,
   "metadata": {},
   "outputs": [
    {
     "data": {
      "text/html": [
       "<div>\n",
       "<style scoped>\n",
       "    .dataframe tbody tr th:only-of-type {\n",
       "        vertical-align: middle;\n",
       "    }\n",
       "\n",
       "    .dataframe tbody tr th {\n",
       "        vertical-align: top;\n",
       "    }\n",
       "\n",
       "    .dataframe thead th {\n",
       "        text-align: right;\n",
       "    }\n",
       "</style>\n",
       "<table border=\"1\" class=\"dataframe\">\n",
       "  <thead>\n",
       "    <tr style=\"text-align: right;\">\n",
       "      <th></th>\n",
       "      <th>subject_id</th>\n",
       "      <th>source_subject_id</th>\n",
       "      <th>GP2_id</th>\n",
       "      <th>organism</th>\n",
       "      <th>ethnicity</th>\n",
       "      <th>GP2_id</th>\n",
       "      <th>age_at_diagnosis</th>\n",
       "    </tr>\n",
       "  </thead>\n",
       "  <tbody>\n",
       "    <tr>\n",
       "      <th>0</th>\n",
       "      <td>Hardy_P27_11</td>\n",
       "      <td>P27/11</td>\n",
       "      <td>MDGAP-QSBB_000088_s1</td>\n",
       "      <td>Human</td>\n",
       "      <td>NA</td>\n",
       "      <td>MDGAP-QSBB_000088_s1</td>\n",
       "      <td>69</td>\n",
       "    </tr>\n",
       "    <tr>\n",
       "      <th>4</th>\n",
       "      <td>Hardy_P8_18</td>\n",
       "      <td>P8/18</td>\n",
       "      <td>MDGAP-QSBB_000583_s1</td>\n",
       "      <td>Human</td>\n",
       "      <td>NA</td>\n",
       "      <td>MDGAP-QSBB_000583_s1</td>\n",
       "      <td>61</td>\n",
       "    </tr>\n",
       "    <tr>\n",
       "      <th>8</th>\n",
       "      <td>Hardy_P41_09</td>\n",
       "      <td>P41/09</td>\n",
       "      <td>MDGAP-QSBB_000406_s1</td>\n",
       "      <td>Human</td>\n",
       "      <td>NA</td>\n",
       "      <td>MDGAP-QSBB_000406_s1</td>\n",
       "      <td>NA</td>\n",
       "    </tr>\n",
       "    <tr>\n",
       "      <th>12</th>\n",
       "      <td>Hardy_P26_11</td>\n",
       "      <td>P26/11</td>\n",
       "      <td>MDGAP-QSBB_000325_s1</td>\n",
       "      <td>Human</td>\n",
       "      <td>NA</td>\n",
       "      <td>MDGAP-QSBB_000325_s1</td>\n",
       "      <td>NA</td>\n",
       "    </tr>\n",
       "    <tr>\n",
       "      <th>16</th>\n",
       "      <td>Hardy_P95_10</td>\n",
       "      <td>P95/10</td>\n",
       "      <td>MDGAP-QSBB_000046_s1</td>\n",
       "      <td>Human</td>\n",
       "      <td>NA</td>\n",
       "      <td>MDGAP-QSBB_000046_s1</td>\n",
       "      <td>71</td>\n",
       "    </tr>\n",
       "  </tbody>\n",
       "</table>\n",
       "</div>"
      ],
      "text/plain": [
       "      subject_id source_subject_id                GP2_id organism ethnicity  \\\n",
       "0   Hardy_P27_11            P27/11  MDGAP-QSBB_000088_s1    Human        NA   \n",
       "4    Hardy_P8_18             P8/18  MDGAP-QSBB_000583_s1    Human        NA   \n",
       "8   Hardy_P41_09            P41/09  MDGAP-QSBB_000406_s1    Human        NA   \n",
       "12  Hardy_P26_11            P26/11  MDGAP-QSBB_000325_s1    Human        NA   \n",
       "16  Hardy_P95_10            P95/10  MDGAP-QSBB_000046_s1    Human        NA   \n",
       "\n",
       "                  GP2_id age_at_diagnosis  \n",
       "0   MDGAP-QSBB_000088_s1               69  \n",
       "4   MDGAP-QSBB_000583_s1               61  \n",
       "8   MDGAP-QSBB_000406_s1               NA  \n",
       "12  MDGAP-QSBB_000325_s1               NA  \n",
       "16  MDGAP-QSBB_000046_s1               71  "
      ]
     },
     "execution_count": 17,
     "metadata": {},
     "output_type": "execute_result"
    }
   ],
   "source": [
    "SUBJECT[['subject_id','source_subject_id','GP2_id','organism','ethnicity','GP2_id','age_at_diagnosis']].head()"
   ]
  },
  {
   "cell_type": "code",
   "execution_count": 18,
   "metadata": {},
   "outputs": [
    {
     "name": "stdout",
     "output_type": "stream",
     "text": [
      "recoding age_at_onset as int\n",
      "recoding age_at_diagnosis as int\n",
      "recoding first_motor_symptom as int\n",
      "All required fields are present in *CLINPATH* table.\n",
      "🚨⚠️❗ **38 Fields with empty (NULL) values:**\n",
      "\n",
      "\t- duration_pmi: 4/288 empty rows (REQUIRED)\n",
      "\n",
      "\t- AMPPD_id: 288/288 empty rows (OPTIONAL)\n",
      "\n",
      "\t- GP2_id: 288/288 empty rows (OPTIONAL)\n",
      "\n",
      "\t- ethnicity: 288/288 empty rows (OPTIONAL)\n",
      "\n",
      "\t- family_history: 288/288 empty rows (OPTIONAL)\n",
      "\n",
      "\t- last_diagnosis: 288/288 empty rows (OPTIONAL)\n",
      "\n",
      "\t- age_at_onset: 288/288 empty rows (OPTIONAL)\n",
      "\n",
      "\t- age_at_diagnosis: 288/288 empty rows (OPTIONAL)\n",
      "\n",
      "\t- first_motor_symptom: 288/288 empty rows (OPTIONAL)\n",
      "\n",
      "\t- hx_dementia_mci: 288/288 empty rows (OPTIONAL)\n",
      "\n",
      "\t- hx_melanoma: 288/288 empty rows (OPTIONAL)\n",
      "\n",
      "\t- education_level: 288/288 empty rows (OPTIONAL)\n",
      "\n",
      "\t- smoking_status: 288/288 empty rows (OPTIONAL)\n",
      "\n",
      "\t- smoking_years: 288/288 empty rows (OPTIONAL)\n",
      "\n",
      "\t- APOE_e4_status: 288/288 empty rows (OPTIONAL)\n",
      "\n",
      "\t- cognitive_status: 288/288 empty rows (OPTIONAL)\n",
      "\n",
      "\t- time_from_baseline: 288/288 empty rows (OPTIONAL)\n",
      "\n",
      "\t- path_autopsy_third_dx: 288/288 empty rows (OPTIONAL)\n",
      "\n",
      "\t- path_autopsy_fourth_dx: 288/288 empty rows (OPTIONAL)\n",
      "\n",
      "\t- path_autopsy_fifth_dx: 288/288 empty rows (OPTIONAL)\n",
      "\n",
      "\t- path_autopsy_sixth_dx: 288/288 empty rows (OPTIONAL)\n",
      "\n",
      "\t- path_autopsy_seventh_dx: 288/288 empty rows (OPTIONAL)\n",
      "\n",
      "\t- path_autopsy_eight_dx: 288/288 empty rows (OPTIONAL)\n",
      "\n",
      "\t- path_year_death: 288/288 empty rows (OPTIONAL)\n",
      "\n",
      "\t- cause_death: 32/288 empty rows (OPTIONAL)\n",
      "\n",
      "\t- other_cause_death_1: 288/288 empty rows (OPTIONAL)\n",
      "\n",
      "\t- other_cause_death_2: 288/288 empty rows (OPTIONAL)\n",
      "\n",
      "\t- brain_weight: 288/288 empty rows (OPTIONAL)\n",
      "\n",
      "\t- path_cerad: 116/288 empty rows (OPTIONAL)\n",
      "\n",
      "\t- known_pathogenic_mutation: 288/288 empty rows (OPTIONAL)\n",
      "\n",
      "\t- PD_pathogenic_mutation: 288/288 empty rows (OPTIONAL)\n",
      "\n",
      "\t- sn_neuronal_loss: 288/288 empty rows (OPTIONAL)\n",
      "\n",
      "\t- path_infarcs: 288/288 empty rows (OPTIONAL)\n",
      "\n",
      "\t- path_nia_ri: 288/288 empty rows (OPTIONAL)\n",
      "\n",
      "\t- TDP43: 288/288 empty rows (OPTIONAL)\n",
      "\n",
      "\t- arteriolosclerosis_severity_scale: 288/288 empty rows (OPTIONAL)\n",
      "\n",
      "\t- amyloid_angiopathy_severity_scale: 288/288 empty rows (OPTIONAL)\n",
      "\n",
      "\t- path_ad_level: 4/288 empty rows (OPTIONAL)\n",
      "No invalid entries found in Enum fields.\n",
      "\n"
     ]
    }
   ],
   "source": [
    "table = \"CLINPATH\"\n",
    "schema = CDE[CDE['Table'] == table]\n",
    "\n",
    "report = ReportCollector(destination=\"NA\")\n",
    "full_table, report = validate_table(dfs[table].copy(), table, schema, report)\n",
    "report.print_log()"
   ]
  },
  {
   "cell_type": "code",
   "execution_count": 19,
   "metadata": {},
   "outputs": [
    {
     "name": "stderr",
     "output_type": "stream",
     "text": [
      "/var/folders/0z/hvx6j8cn6yj3bqbyq6rtsxm40000gn/T/ipykernel_44021/1833959381.py:12: SettingWithCopyWarning: \n",
      "A value is trying to be set on a copy of a slice from a DataFrame.\n",
      "Try using .loc[row_indexer,col_indexer] = value instead\n",
      "\n",
      "See the caveats in the documentation: https://pandas.pydata.org/pandas-docs/stable/user_guide/indexing.html#returning-a-view-versus-a-copy\n",
      "  CLINPATH['GP2_id'] = CLINPATH['subject_id'].map(gp2_mapper)\n",
      "/var/folders/0z/hvx6j8cn6yj3bqbyq6rtsxm40000gn/T/ipykernel_44021/1833959381.py:13: SettingWithCopyWarning: \n",
      "A value is trying to be set on a copy of a slice from a DataFrame.\n",
      "Try using .loc[row_indexer,col_indexer] = value instead\n",
      "\n",
      "See the caveats in the documentation: https://pandas.pydata.org/pandas-docs/stable/user_guide/indexing.html#returning-a-view-versus-a-copy\n",
      "  CLINPATH['age_at_diagnosis'] = CLINPATH['subject_id'].map(age_mapper)\n"
     ]
    },
    {
     "data": {
      "text/html": [
       "<div>\n",
       "<style scoped>\n",
       "    .dataframe tbody tr th:only-of-type {\n",
       "        vertical-align: middle;\n",
       "    }\n",
       "\n",
       "    .dataframe tbody tr th {\n",
       "        vertical-align: top;\n",
       "    }\n",
       "\n",
       "    .dataframe thead th {\n",
       "        text-align: right;\n",
       "    }\n",
       "</style>\n",
       "<table border=\"1\" class=\"dataframe\">\n",
       "  <thead>\n",
       "    <tr style=\"text-align: right;\">\n",
       "      <th></th>\n",
       "      <th>subject_id</th>\n",
       "      <th>source_subject_id</th>\n",
       "      <th>GP2_id</th>\n",
       "      <th>age_at_diagnosis</th>\n",
       "    </tr>\n",
       "  </thead>\n",
       "  <tbody>\n",
       "    <tr>\n",
       "      <th>0</th>\n",
       "      <td>Hardy_P27_11</td>\n",
       "      <td>P27/11</td>\n",
       "      <td>MDGAP-QSBB_000088_s1</td>\n",
       "      <td>69</td>\n",
       "    </tr>\n",
       "    <tr>\n",
       "      <th>4</th>\n",
       "      <td>Hardy_P8_18</td>\n",
       "      <td>P8/18</td>\n",
       "      <td>MDGAP-QSBB_000583_s1</td>\n",
       "      <td>61</td>\n",
       "    </tr>\n",
       "    <tr>\n",
       "      <th>8</th>\n",
       "      <td>Hardy_P41_09</td>\n",
       "      <td>P41/09</td>\n",
       "      <td>MDGAP-QSBB_000406_s1</td>\n",
       "      <td>NA</td>\n",
       "    </tr>\n",
       "    <tr>\n",
       "      <th>12</th>\n",
       "      <td>Hardy_P26_11</td>\n",
       "      <td>P26/11</td>\n",
       "      <td>MDGAP-QSBB_000325_s1</td>\n",
       "      <td>NA</td>\n",
       "    </tr>\n",
       "    <tr>\n",
       "      <th>16</th>\n",
       "      <td>Hardy_P95_10</td>\n",
       "      <td>P95/10</td>\n",
       "      <td>MDGAP-QSBB_000046_s1</td>\n",
       "      <td>71</td>\n",
       "    </tr>\n",
       "    <tr>\n",
       "      <th>...</th>\n",
       "      <td>...</td>\n",
       "      <td>...</td>\n",
       "      <td>...</td>\n",
       "      <td>...</td>\n",
       "    </tr>\n",
       "    <tr>\n",
       "      <th>268</th>\n",
       "      <td>Hardy_P11_17</td>\n",
       "      <td>P11/17</td>\n",
       "      <td>MDGAP-DEMENTIA_000251_s1</td>\n",
       "      <td>NA</td>\n",
       "    </tr>\n",
       "    <tr>\n",
       "      <th>272</th>\n",
       "      <td>Hardy_P62_15</td>\n",
       "      <td>P62/15</td>\n",
       "      <td>MDGAP-QSBB_000517_s1</td>\n",
       "      <td>80</td>\n",
       "    </tr>\n",
       "    <tr>\n",
       "      <th>276</th>\n",
       "      <td>Hardy_P68_05</td>\n",
       "      <td>P68/05</td>\n",
       "      <td>MDGAP-QSBB_000014_s1</td>\n",
       "      <td>62</td>\n",
       "    </tr>\n",
       "    <tr>\n",
       "      <th>280</th>\n",
       "      <td>Hardy_P52_13</td>\n",
       "      <td>P52/13</td>\n",
       "      <td>MDGAP-QSBB_000081_s1</td>\n",
       "      <td>64</td>\n",
       "    </tr>\n",
       "    <tr>\n",
       "      <th>284</th>\n",
       "      <td>Hardy_P78_18</td>\n",
       "      <td>P78/18</td>\n",
       "      <td>MDGAP-QSBB_000579_s1</td>\n",
       "      <td>49</td>\n",
       "    </tr>\n",
       "  </tbody>\n",
       "</table>\n",
       "<p>72 rows × 4 columns</p>\n",
       "</div>"
      ],
      "text/plain": [
       "       subject_id source_subject_id                    GP2_id age_at_diagnosis\n",
       "0    Hardy_P27_11            P27/11      MDGAP-QSBB_000088_s1               69\n",
       "4     Hardy_P8_18             P8/18      MDGAP-QSBB_000583_s1               61\n",
       "8    Hardy_P41_09            P41/09      MDGAP-QSBB_000406_s1               NA\n",
       "12   Hardy_P26_11            P26/11      MDGAP-QSBB_000325_s1               NA\n",
       "16   Hardy_P95_10            P95/10      MDGAP-QSBB_000046_s1               71\n",
       "..            ...               ...                       ...              ...\n",
       "268  Hardy_P11_17            P11/17  MDGAP-DEMENTIA_000251_s1               NA\n",
       "272  Hardy_P62_15            P62/15      MDGAP-QSBB_000517_s1               80\n",
       "276  Hardy_P68_05            P68/05      MDGAP-QSBB_000014_s1               62\n",
       "280  Hardy_P52_13            P52/13      MDGAP-QSBB_000081_s1               64\n",
       "284  Hardy_P78_18            P78/18      MDGAP-QSBB_000579_s1               49\n",
       "\n",
       "[72 rows x 4 columns]"
      ]
     },
     "execution_count": 19,
     "metadata": {},
     "output_type": "execute_result"
    }
   ],
   "source": [
    "# copy 'GP2_id', 'age_at_diagnosis' from SUBJECT\n",
    "gp2_mapper = dict(zip(SUBJECT['subject_id'], SUBJECT['GP2_id']))\n",
    "age_mapper = dict(zip(SUBJECT['subject_id'], SUBJECT['age_at_diagnosis']))\n",
    "\n",
    "\n",
    "# fixe the subject_id by adding Hardy and removing the / from the source_subject_id\n",
    "CLINPATH['subject_id'] = \"Hardy_\" + CLINPATH['source_subject_id'].str.replace(\"/\", \"_\")\n",
    "\n",
    "# the subject_id is actually a sample_id, so we will also need to remove duplicates.\n",
    "CLINPATH = CLINPATH.drop_duplicates(subset=['subject_id'])\n",
    "\n",
    "CLINPATH['GP2_id'] = CLINPATH['subject_id'].map(gp2_mapper)\n",
    "CLINPATH['age_at_diagnosis'] = CLINPATH['subject_id'].map(age_mapper)\n",
    "CLINPATH[['subject_id','source_subject_id','GP2_id','age_at_diagnosis']]"
   ]
  },
  {
   "cell_type": "code",
   "execution_count": 20,
   "metadata": {},
   "outputs": [
    {
     "name": "stdout",
     "output_type": "stream",
     "text": [
      "recoding replicate_count as int\n",
      "recoding repeated_sample as int\n",
      "All required fields are present in *SAMPLE* table.\n",
      "🚨⚠️❗ **16 Fields with empty (NULL) values:**\n",
      "\n",
      "\t- source_sample_id: 288/288 empty rows (REQUIRED)\n",
      "\n",
      "\t- assay_type: 288/288 empty rows (REQUIRED)\n",
      "\n",
      "\t- organism_ontology_term_id: 288/288 empty rows (REQUIRED)\n",
      "\n",
      "\t- time: 288/288 empty rows (OPTIONAL)\n",
      "\n",
      "\t- development_stage_ontology_term_id: 288/288 empty rows (OPTIONAL)\n",
      "\n",
      "\t- sex_ontology_term_id: 288/288 empty rows (OPTIONAL)\n",
      "\n",
      "\t- self_reported_ethnicity_ontology_term_id: 288/288 empty rows (OPTIONAL)\n",
      "\n",
      "\t- disease_ontology_term_id: 288/288 empty rows (OPTIONAL)\n",
      "\n",
      "\t- tissue_ontology_term_id: 288/288 empty rows (OPTIONAL)\n",
      "\n",
      "\t- assay_ontology_term_id: 288/288 empty rows (OPTIONAL)\n",
      "\n",
      "\t- donor_id: 288/288 empty rows (OPTIONAL)\n",
      "\n",
      "\t- pm_PH: 288/288 empty rows (OPTIONAL)\n",
      "\n",
      "\t- cell_type_ontology_term_id: 288/288 empty rows (OPTIONAL)\n",
      "\n",
      "\t- source_RIN: 288/288 empty rows (OPTIONAL)\n",
      "\n",
      "\t- DV200: 288/288 empty rows (OPTIONAL)\n",
      "\n",
      "\t- suspension_type: 288/288 empty rows (OPTIONAL)\n",
      "No invalid entries found in Enum fields.\n",
      "🚨⚠️❗ **Extra field in SAMPLE: condition**\n",
      "\n"
     ]
    }
   ],
   "source": [
    "table = \"SAMPLE\"\n",
    "schema = CDE[CDE['Table'] == table]\n",
    "\n",
    "report = ReportCollector(destination=\"NA\")\n",
    "full_table, report = validate_table(dfs[table].copy(), table, schema, report)\n",
    "report.print_log()"
   ]
  },
  {
   "cell_type": "code",
   "execution_count": 21,
   "metadata": {},
   "outputs": [
    {
     "data": {
      "text/html": [
       "<div>\n",
       "<style scoped>\n",
       "    .dataframe tbody tr th:only-of-type {\n",
       "        vertical-align: middle;\n",
       "    }\n",
       "\n",
       "    .dataframe tbody tr th {\n",
       "        vertical-align: top;\n",
       "    }\n",
       "\n",
       "    .dataframe thead th {\n",
       "        text-align: right;\n",
       "    }\n",
       "</style>\n",
       "<table border=\"1\" class=\"dataframe\">\n",
       "  <thead>\n",
       "    <tr style=\"text-align: right;\">\n",
       "      <th>Field</th>\n",
       "      <th>condition_id</th>\n",
       "      <th>intervention_name</th>\n",
       "      <th>intervention_id</th>\n",
       "      <th>protocol_id</th>\n",
       "      <th>intervention_aux_table</th>\n",
       "    </tr>\n",
       "  </thead>\n",
       "  <tbody>\n",
       "    <tr>\n",
       "      <th>0</th>\n",
       "      <td>idiopathic_pd</td>\n",
       "      <td>Case-Control</td>\n",
       "      <td>Case</td>\n",
       "      <td>NaN</td>\n",
       "      <td>NaN</td>\n",
       "    </tr>\n",
       "    <tr>\n",
       "      <th>1</th>\n",
       "      <td>no_pd_nor_other_neurological_disorder</td>\n",
       "      <td>Case-Control</td>\n",
       "      <td>Control</td>\n",
       "      <td>NaN</td>\n",
       "      <td>NaN</td>\n",
       "    </tr>\n",
       "    <tr>\n",
       "      <th>2</th>\n",
       "      <td>other_neurological_disorder</td>\n",
       "      <td>Case-Control</td>\n",
       "      <td>Other</td>\n",
       "      <td>NaN</td>\n",
       "      <td>NaN</td>\n",
       "    </tr>\n",
       "  </tbody>\n",
       "</table>\n",
       "</div>"
      ],
      "text/plain": [
       "Field                           condition_id intervention_name  \\\n",
       "0                              idiopathic_pd      Case-Control   \n",
       "1      no_pd_nor_other_neurological_disorder      Case-Control   \n",
       "2                other_neurological_disorder      Case-Control   \n",
       "\n",
       "Field intervention_id protocol_id intervention_aux_table  \n",
       "0                Case         NaN                    NaN  \n",
       "1             Control         NaN                    NaN  \n",
       "2               Other         NaN                    NaN  "
      ]
     },
     "execution_count": 21,
     "metadata": {},
     "output_type": "execute_result"
    }
   ],
   "source": [
    "# CONDITION\n",
    "# construct this table.  needs to be checked by hand\n",
    "CONDITIONv3 = pd.DataFrame(columns=CDEv3[CDEv3['Table'] == \"CONDITION\"]['Field'])\n",
    "CONDITIONv3['condition_id'] = SUBJECT['primary_diagnosis'].unique()\n",
    "CONDITIONv3['intervention_name'] = \"Case-Control\"\n",
    "CONDITIONv3['intervention_id'] = CONDITIONv3['condition_id'].apply(intervention_typer)\n",
    "CONDITIONv3['condition_id'] = CONDITIONv3['condition_id'].str.lower().str.replace(\" \", \"_\")\n",
    "\n",
    "CONDITIONv3"
   ]
  },
  {
   "cell_type": "code",
   "execution_count": 22,
   "metadata": {},
   "outputs": [
    {
     "data": {
      "text/plain": [
       "'c78d76759a539f203eafc53165f14ab2'"
      ]
     },
     "execution_count": 22,
     "metadata": {},
     "output_type": "execute_result"
    }
   ],
   "source": [
    "DATA[['sample_id','file_name','file_MD5']]['file_MD5'][0]"
   ]
  },
  {
   "cell_type": "code",
   "execution_count": 23,
   "metadata": {},
   "outputs": [],
   "source": [
    "# now save the tables\n",
    "v3_tables = {\n",
    "    \"STUDY\": STUDY,\n",
    "    \"PROTOCOL\": PROTOCOL,\n",
    "    \"SUBJECT\": SUBJECT,\n",
    "    \"SAMPLE\": SAMPLE,\n",
    "    \"DATA\": DATA,\n",
    "    \"CLINPATH\": CLINPATH,\n",
    "    \"PMDBS\": PMDBS,\n",
    "    \"CONDITION\": CONDITIONv3,\n",
    "    \"ASSAY_RNAseq\": ASSAY_RNAseq\n",
    "}"
   ]
  },
  {
   "cell_type": "markdown",
   "metadata": {},
   "source": [
    "### save extras as auxillary tables\n"
   ]
  },
  {
   "cell_type": "code",
   "execution_count": 24,
   "metadata": {},
   "outputs": [
    {
     "name": "stdout",
     "output_type": "stream",
     "text": [
      "Saved SUBJECT_auxiliary.csv\n",
      "Saved SAMPLE_auxiliary.csv\n",
      "Saved ASSAY_RNAseq_auxiliary.csv\n"
     ]
    }
   ],
   "source": [
    "\n",
    "for table,df in v3_tables.items():\n",
    "    schema = CDE[CDE['Table'] == table]\n",
    "    valid_fields = schema['Field'].unique()\n",
    "    df_out = df[valid_fields]\n",
    "    aux_fields = set(df.columns) - set(valid_fields)\n",
    "    if aux_fields:\n",
    "        df_aux = df[list(aux_fields)]\n",
    "        df_aux.to_csv(og_path / f\"{table}_auxiliary.csv\", index=False)\n",
    "        print(f\"Saved {table}_auxiliary.csv\")\n",
    "    df_out.to_csv(v3_path / f\"{table}.csv\", index=False)"
   ]
  },
  {
   "cell_type": "markdown",
   "metadata": {},
   "source": [
    "### validate v3 tables\n"
   ]
  },
  {
   "cell_type": "code",
   "execution_count": 25,
   "metadata": {},
   "outputs": [
    {
     "name": "stdout",
     "output_type": "stream",
     "text": [
      "recoding number_samples as int\n",
      "All required fields are present in *STUDY* table.\n",
      "🚨⚠️❗ **4 Fields with empty (NULL) values:**\n",
      "\n",
      "\t- other_funding_source: 1/1 empty rows (REQUIRED)\n",
      "\n",
      "\t- publication_DOI: 1/1 empty rows (REQUIRED)\n",
      "\n",
      "\t- publication_PMID: 1/1 empty rows (REQUIRED)\n",
      "\n",
      "\t- alternate_dataset_id: 1/1 empty rows (OPTIONAL)\n",
      "No invalid entries found in Enum fields.\n",
      "\n",
      "All required fields are present in *PROTOCOL* table.\n",
      "🚨⚠️❗ **3 Fields with empty (NULL) values:**\n",
      "\n",
      "\t- cell_extraction_summary: 1/1 empty rows (REQUIRED)\n",
      "\n",
      "\t- protocols_io_DOI: 1/1 empty rows (REQUIRED)\n",
      "\n",
      "\t- other_reference: 1/1 empty rows (OPTIONAL)\n",
      "No invalid entries found in Enum fields.\n",
      "\n",
      "All required fields are present in *SUBJECT* table.\n",
      "No empty entries (NULL) found .\n",
      "No invalid entries found in Enum fields.\n",
      "\n",
      "recoding replicate_count as int\n",
      "recoding repeated_sample as int\n",
      "All required fields are present in *SAMPLE* table.\n",
      "🚨⚠️❗ **16 Fields with empty (NULL) values:**\n",
      "\n",
      "\t- source_sample_id: 288/288 empty rows (REQUIRED)\n",
      "\n",
      "\t- assay_type: 288/288 empty rows (REQUIRED)\n",
      "\n",
      "\t- organism_ontology_term_id: 288/288 empty rows (REQUIRED)\n",
      "\n",
      "\t- time: 288/288 empty rows (OPTIONAL)\n",
      "\n",
      "\t- development_stage_ontology_term_id: 288/288 empty rows (OPTIONAL)\n",
      "\n",
      "\t- sex_ontology_term_id: 288/288 empty rows (OPTIONAL)\n",
      "\n",
      "\t- self_reported_ethnicity_ontology_term_id: 288/288 empty rows (OPTIONAL)\n",
      "\n",
      "\t- disease_ontology_term_id: 288/288 empty rows (OPTIONAL)\n",
      "\n",
      "\t- tissue_ontology_term_id: 288/288 empty rows (OPTIONAL)\n",
      "\n",
      "\t- assay_ontology_term_id: 288/288 empty rows (OPTIONAL)\n",
      "\n",
      "\t- donor_id: 288/288 empty rows (OPTIONAL)\n",
      "\n",
      "\t- pm_PH: 288/288 empty rows (OPTIONAL)\n",
      "\n",
      "\t- cell_type_ontology_term_id: 288/288 empty rows (OPTIONAL)\n",
      "\n",
      "\t- source_RIN: 288/288 empty rows (OPTIONAL)\n",
      "\n",
      "\t- DV200: 288/288 empty rows (OPTIONAL)\n",
      "\n",
      "\t- suspension_type: 288/288 empty rows (OPTIONAL)\n",
      "No invalid entries found in Enum fields.\n",
      "\n",
      "recoding replicate_count as int\n",
      "recoding repeated_sample as int\n",
      "All required fields are present in *DATA* table.\n",
      "🚨⚠️❗ **3 Fields with empty (NULL) values:**\n",
      "\n",
      "\t- header: 576/576 empty rows (OPTIONAL)\n",
      "\n",
      "\t- annotation: 576/576 empty rows (OPTIONAL)\n",
      "\n",
      "\t- configuration_file: 576/576 empty rows (OPTIONAL)\n",
      "No invalid entries found in Enum fields.\n",
      "\n",
      "recoding age_at_onset as int\n",
      "recoding age_at_diagnosis as int\n",
      "recoding first_motor_symptom as int\n",
      "All required fields are present in *CLINPATH* table.\n",
      "🚨⚠️❗ **37 Fields with empty (NULL) values:**\n",
      "\n",
      "\t- duration_pmi: 1/72 empty rows (REQUIRED)\n",
      "\n",
      "\t- AMPPD_id: 72/72 empty rows (OPTIONAL)\n",
      "\n",
      "\t- ethnicity: 72/72 empty rows (OPTIONAL)\n",
      "\n",
      "\t- family_history: 72/72 empty rows (OPTIONAL)\n",
      "\n",
      "\t- last_diagnosis: 72/72 empty rows (OPTIONAL)\n",
      "\n",
      "\t- age_at_onset: 72/72 empty rows (OPTIONAL)\n",
      "\n",
      "\t- age_at_diagnosis: 22/72 empty rows (OPTIONAL)\n",
      "\n",
      "\t- first_motor_symptom: 72/72 empty rows (OPTIONAL)\n",
      "\n",
      "\t- hx_dementia_mci: 72/72 empty rows (OPTIONAL)\n",
      "\n",
      "\t- hx_melanoma: 72/72 empty rows (OPTIONAL)\n",
      "\n",
      "\t- education_level: 72/72 empty rows (OPTIONAL)\n",
      "\n",
      "\t- smoking_status: 72/72 empty rows (OPTIONAL)\n",
      "\n",
      "\t- smoking_years: 72/72 empty rows (OPTIONAL)\n",
      "\n",
      "\t- APOE_e4_status: 72/72 empty rows (OPTIONAL)\n",
      "\n",
      "\t- cognitive_status: 72/72 empty rows (OPTIONAL)\n",
      "\n",
      "\t- time_from_baseline: 72/72 empty rows (OPTIONAL)\n",
      "\n",
      "\t- path_autopsy_third_dx: 72/72 empty rows (OPTIONAL)\n",
      "\n",
      "\t- path_autopsy_fourth_dx: 72/72 empty rows (OPTIONAL)\n",
      "\n",
      "\t- path_autopsy_fifth_dx: 72/72 empty rows (OPTIONAL)\n",
      "\n",
      "\t- path_autopsy_sixth_dx: 72/72 empty rows (OPTIONAL)\n",
      "\n",
      "\t- path_autopsy_seventh_dx: 72/72 empty rows (OPTIONAL)\n",
      "\n",
      "\t- path_autopsy_eight_dx: 72/72 empty rows (OPTIONAL)\n",
      "\n",
      "\t- path_year_death: 72/72 empty rows (OPTIONAL)\n",
      "\n",
      "\t- cause_death: 8/72 empty rows (OPTIONAL)\n",
      "\n",
      "\t- other_cause_death_1: 72/72 empty rows (OPTIONAL)\n",
      "\n",
      "\t- other_cause_death_2: 72/72 empty rows (OPTIONAL)\n",
      "\n",
      "\t- brain_weight: 72/72 empty rows (OPTIONAL)\n",
      "\n",
      "\t- path_cerad: 29/72 empty rows (OPTIONAL)\n",
      "\n",
      "\t- known_pathogenic_mutation: 72/72 empty rows (OPTIONAL)\n",
      "\n",
      "\t- PD_pathogenic_mutation: 72/72 empty rows (OPTIONAL)\n",
      "\n",
      "\t- sn_neuronal_loss: 72/72 empty rows (OPTIONAL)\n",
      "\n",
      "\t- path_infarcs: 72/72 empty rows (OPTIONAL)\n",
      "\n",
      "\t- path_nia_ri: 72/72 empty rows (OPTIONAL)\n",
      "\n",
      "\t- TDP43: 72/72 empty rows (OPTIONAL)\n",
      "\n",
      "\t- arteriolosclerosis_severity_scale: 72/72 empty rows (OPTIONAL)\n",
      "\n",
      "\t- amyloid_angiopathy_severity_scale: 72/72 empty rows (OPTIONAL)\n",
      "\n",
      "\t- path_ad_level: 1/72 empty rows (OPTIONAL)\n",
      "No invalid entries found in Enum fields.\n",
      "\n",
      "All required fields are present in *PMDBS* table.\n",
      "No empty entries (NULL) found .\n",
      "No invalid entries found in Enum fields.\n",
      "\n",
      "All required fields are present in *CONDITION* table.\n",
      "🚨⚠️❗ **2 Fields with empty (NULL) values:**\n",
      "\n",
      "\t- protocol_id: 3/3 empty rows (REQUIRED)\n",
      "\n",
      "\t- intervention_aux_table: 3/3 empty rows (OPTIONAL)\n",
      "No invalid entries found in Enum fields.\n",
      "\n",
      "recoding input_cell_count as int\n",
      "recoding sequencing_length as int\n",
      "All required fields are present in *ASSAY_RNAseq* table.\n",
      "🚨⚠️❗ **1 Fields with empty (NULL) values:**\n",
      "\n",
      "\t- input_cell_count: 288/288 empty rows (REQUIRED)\n",
      "No invalid entries found in Enum fields.\n",
      "\n"
     ]
    }
   ],
   "source": [
    "CDE = CDEv3\n",
    "tables = CDE['Table'].unique()\n",
    "v3_meta_tables = ['STUDY', 'PROTOCOL', 'SUBJECT', 'SAMPLE', 'DATA', 'CLINPATH', 'PMDBS', 'CONDITION', 'ASSAY_RNAseq']\n",
    "\n",
    "v3_tables = {}\n",
    "for table in v3_meta_tables:\n",
    "    df = read_meta_table(v3_path / f\"{table}.csv\")\n",
    "    schema = CDE[CDE['Table'] == table]\n",
    "\n",
    "    report = ReportCollector(destination=\"NA\")\n",
    "    full_table, report = validate_table(df.copy(), table, schema, report)\n",
    "    report.print_log()\n",
    "    v3_tables[table] = full_table"
   ]
  },
  {
   "cell_type": "markdown",
   "metadata": {},
   "source": [
    "-------------------------\n",
    "## check md5s\n",
    "\n"
   ]
  },
  {
   "cell_type": "code",
   "execution_count": 26,
   "metadata": {},
   "outputs": [
    {
     "name": "stdout",
     "output_type": "stream",
     "text": [
      "hardy\n",
      "CompletedProcess(args='gcloud auth activate-service-account --key-file=/Users/ergonyc/Projects/ASAP/hardy-credentials.json', returncode=0, stdout='', stderr='Activated service account credentials for: [raw-admin-hardy@dnastack-asap-parkinsons.iam.gserviceaccount.com]\\n')\n",
      "gsutil -u dnastack-asap-parkinsons hash -h gs://asap-raw-team-hardy-pmdbs-bulk-rnaseq/**/*.gz\n"
     ]
    }
   ],
   "source": [
    "print(team)\n",
    "\n",
    "source = \"pmdbs\"\n",
    "\n",
    "bucket = f\"asap-raw-team-{team}-{source}-{dataset_name}\"\n",
    "\n",
    "key_file_path = Path.home() / f\"Projects/ASAP/{team}-credentials.json\"\n",
    "\n",
    "res = authenticate_with_service_account(key_file_path)\n",
    "print(res)\n",
    "\n",
    "# make sure to get ALL the fastq files in the bucket\n",
    "prefix = \"**/*.gz\"\n",
    "bucket_files_md5 = get_md5_hashes( bucket, prefix)"
   ]
  },
  {
   "cell_type": "code",
   "execution_count": 27,
   "metadata": {},
   "outputs": [
    {
     "name": "stderr",
     "output_type": "stream",
     "text": [
      "/var/folders/0z/hvx6j8cn6yj3bqbyq6rtsxm40000gn/T/ipykernel_44021/1352623229.py:5: SettingWithCopyWarning: \n",
      "A value is trying to be set on a copy of a slice from a DataFrame.\n",
      "Try using .loc[row_indexer,col_indexer] = value instead\n",
      "\n",
      "See the caveats in the documentation: https://pandas.pydata.org/pandas-docs/stable/user_guide/indexing.html#returning-a-view-versus-a-copy\n",
      "  checksum['check2'] = checksum['file_name'].map(bucket_files_md5)\n",
      "/var/folders/0z/hvx6j8cn6yj3bqbyq6rtsxm40000gn/T/ipykernel_44021/1352623229.py:6: SettingWithCopyWarning: \n",
      "A value is trying to be set on a copy of a slice from a DataFrame.\n",
      "Try using .loc[row_indexer,col_indexer] = value instead\n",
      "\n",
      "See the caveats in the documentation: https://pandas.pydata.org/pandas-docs/stable/user_guide/indexing.html#returning-a-view-versus-a-copy\n",
      "  checksum['check1'] = checksum['file_MD5']\n"
     ]
    },
    {
     "data": {
      "text/plain": [
       "[]"
      ]
     },
     "execution_count": 27,
     "metadata": {},
     "output_type": "execute_result"
    }
   ],
   "source": [
    "# def check_md5_sums()\n",
    "\n",
    "\n",
    "checksum = v3_tables['DATA'][['file_name','file_MD5']]\n",
    "checksum['check2'] = checksum['file_name'].map(bucket_files_md5)\n",
    "checksum['check1'] = checksum['file_MD5']\n",
    "checksum[checksum.check1 != checksum.check2].file_name.to_list()\n",
    "#empty means success!!"
   ]
  },
  {
   "cell_type": "markdown",
   "metadata": {},
   "source": [
    "_____\n",
    "\n",
    "## prep metadata in raw data bucket\n",
    "\n",
    "steps:\n",
    "- 1. archive whats there.  i.e. move to metadata/upload\n",
    "- 2. copy metadata/upload to dataset upload (upload subdir)"
   ]
  },
  {
   "cell_type": "code",
   "execution_count": 28,
   "metadata": {},
   "outputs": [
    {
     "name": "stdout",
     "output_type": "stream",
     "text": [
      "gsutil -u dnastack-asap-parkinsons ls gs://asap-raw-team-hardy-pmdbs-bulk-rnaseq/metadata\n",
      "gsutil command succeeded: gs://asap-raw-team-hardy-pmdbs-bulk-rnaseq/metadata/ASSAY_bulkRNAseq.csv\n",
      "gs://asap-raw-team-hardy-pmdbs-bulk-rnaseq/metadata/CLINPATH.csv\n",
      "gs://asap-raw-team-hardy-pmdbs-bulk-rnaseq/metadata/DATA.csv\n",
      "gs://asap-raw-team-hardy-pmdbs-bulk-rnaseq/metadata/PMDBS.csv\n",
      "gs://asap-raw-team-hardy-pmdbs-bulk-rnaseq/metadata/PROTOCOL.csv\n",
      "gs://asap-raw-team-hardy-pmdbs-bulk-rnaseq/metadata/SAMPLE.csv\n",
      "gs://asap-raw-team-hardy-pmdbs-bulk-rnaseq/metadata/STUDY.csv\n",
      "gs://asap-raw-team-hardy-pmdbs-bulk-rnaseq/metadata/SUBJECT.csv\n",
      "\n"
     ]
    }
   ],
   "source": [
    "metadata_subdir = \"metadata\"\n",
    "current_files = gsutil_ls(bucket,metadata_subdir)"
   ]
  },
  {
   "cell_type": "code",
   "execution_count": 29,
   "metadata": {},
   "outputs": [
    {
     "name": "stdout",
     "output_type": "stream",
     "text": [
      "gsutil -u dnastack-asap-parkinsons mv gs://asap-raw-team-hardy-pmdbs-bulk-rnaseq/metadata/ASSAY_bulkRNAseq.csv gs://asap-raw-team-hardy-pmdbs-bulk-rnaseq/metadata/upload/ASSAY_bulkRNAseq.csv\n",
      "gsutil command succeeded: \n",
      "gsutil -u dnastack-asap-parkinsons mv gs://asap-raw-team-hardy-pmdbs-bulk-rnaseq/metadata/CLINPATH.csv gs://asap-raw-team-hardy-pmdbs-bulk-rnaseq/metadata/upload/CLINPATH.csv\n",
      "gsutil command succeeded: \n",
      "gsutil -u dnastack-asap-parkinsons mv gs://asap-raw-team-hardy-pmdbs-bulk-rnaseq/metadata/DATA.csv gs://asap-raw-team-hardy-pmdbs-bulk-rnaseq/metadata/upload/DATA.csv\n",
      "gsutil command succeeded: \n",
      "gsutil -u dnastack-asap-parkinsons mv gs://asap-raw-team-hardy-pmdbs-bulk-rnaseq/metadata/PMDBS.csv gs://asap-raw-team-hardy-pmdbs-bulk-rnaseq/metadata/upload/PMDBS.csv\n",
      "gsutil command succeeded: \n",
      "gsutil -u dnastack-asap-parkinsons mv gs://asap-raw-team-hardy-pmdbs-bulk-rnaseq/metadata/PROTOCOL.csv gs://asap-raw-team-hardy-pmdbs-bulk-rnaseq/metadata/upload/PROTOCOL.csv\n",
      "gsutil command succeeded: \n",
      "gsutil -u dnastack-asap-parkinsons mv gs://asap-raw-team-hardy-pmdbs-bulk-rnaseq/metadata/SAMPLE.csv gs://asap-raw-team-hardy-pmdbs-bulk-rnaseq/metadata/upload/SAMPLE.csv\n",
      "gsutil command succeeded: \n",
      "gsutil -u dnastack-asap-parkinsons mv gs://asap-raw-team-hardy-pmdbs-bulk-rnaseq/metadata/STUDY.csv gs://asap-raw-team-hardy-pmdbs-bulk-rnaseq/metadata/upload/STUDY.csv\n",
      "gsutil command succeeded: \n",
      "gsutil -u dnastack-asap-parkinsons mv gs://asap-raw-team-hardy-pmdbs-bulk-rnaseq/metadata/SUBJECT.csv gs://asap-raw-team-hardy-pmdbs-bulk-rnaseq/metadata/upload/SUBJECT.csv\n",
      "gsutil command succeeded: \n"
     ]
    }
   ],
   "source": [
    "metadata_subdir2 = \"metadata/upload\"\n",
    "bucket = current_files[0].split(\"/\")[2]\n",
    "\n",
    "for file in current_files:\n",
    "    if file == \"\":\n",
    "        continue\n",
    "    file_nm = Path(file).name\n",
    "    is_dir = not file_nm.__contains__(\".\")\n",
    "\n",
    "    source = f\"gs://{bucket}/{metadata_subdir}/{file_nm}\"\n",
    "\n",
    "    destination = f\"gs://{bucket}/{metadata_subdir2}/{file_nm}\"\n",
    "    gsutil_mv(source, destination, is_dir)"
   ]
  },
  {
   "cell_type": "code",
   "execution_count": 30,
   "metadata": {},
   "outputs": [
    {
     "name": "stdout",
     "output_type": "stream",
     "text": [
      "gsutil -u dnastack-asap-parkinsons ls gs://asap-raw-team-hardy-pmdbs-bulk-rnaseq/metadata/upload\n",
      "gsutil command succeeded: gs://asap-raw-team-hardy-pmdbs-bulk-rnaseq/metadata/upload/ASSAY_bulkRNAseq.csv\n",
      "gs://asap-raw-team-hardy-pmdbs-bulk-rnaseq/metadata/upload/CLINPATH.csv\n",
      "gs://asap-raw-team-hardy-pmdbs-bulk-rnaseq/metadata/upload/DATA.csv\n",
      "gs://asap-raw-team-hardy-pmdbs-bulk-rnaseq/metadata/upload/PMDBS.csv\n",
      "gs://asap-raw-team-hardy-pmdbs-bulk-rnaseq/metadata/upload/PROTOCOL.csv\n",
      "gs://asap-raw-team-hardy-pmdbs-bulk-rnaseq/metadata/upload/SAMPLE.csv\n",
      "gs://asap-raw-team-hardy-pmdbs-bulk-rnaseq/metadata/upload/STUDY.csv\n",
      "gs://asap-raw-team-hardy-pmdbs-bulk-rnaseq/metadata/upload/SUBJECT.csv\n",
      "\n"
     ]
    }
   ],
   "source": [
    "\n",
    "metadata_subdir = \"metadata/upload\"\n",
    "current_files = gsutil_ls(bucket,metadata_subdir)"
   ]
  },
  {
   "cell_type": "markdown",
   "metadata": {},
   "source": [
    "Archive the uploaded metadata locally\n",
    "\n"
   ]
  },
  {
   "cell_type": "code",
   "execution_count": 31,
   "metadata": {},
   "outputs": [],
   "source": [
    "file_source = f\"gs://{bucket}/{metadata_subdir}\"\n",
    "destination = f\"{metadata_path}\""
   ]
  },
  {
   "cell_type": "code",
   "execution_count": 32,
   "metadata": {},
   "outputs": [
    {
     "name": "stdout",
     "output_type": "stream",
     "text": [
      "gsutil -u dnastack-asap-parkinsons cp -r gs://asap-raw-team-hardy-pmdbs-bulk-rnaseq/metadata/upload /Users/ergonyc/Projects/ASAP/data/teams/hardy/bulk-rnaseq/metadata\n",
      "gsutil command succeeded: \n"
     ]
    },
    {
     "data": {
      "text/plain": [
       "''"
      ]
     },
     "execution_count": 32,
     "metadata": {},
     "output_type": "execute_result"
    }
   ],
   "source": [
    "\n",
    "is_dir = True\n",
    "gsutil_cp(file_source, destination, is_dir)"
   ]
  },
  {
   "cell_type": "markdown",
   "metadata": {},
   "source": [
    "--------------------\n",
    "## Create metadata package\n",
    "\n",
    "This will copy the final updated to v3.0 metadata to `asap-could-processing-resources`\n"
   ]
  },
  {
   "cell_type": "code",
   "execution_count": 33,
   "metadata": {},
   "outputs": [
    {
     "data": {
      "text/plain": [
       "(PosixPath('/Users/ergonyc/Projects/ASAP/data/teams/hardy/bulk-rnaseq/metadata'),\n",
       " PosixPath('/Users/ergonyc/Projects/ASAP/asap-crn-metadata/datasets/hardy-pmdbs-bulk-rnaseq'))"
      ]
     },
     "execution_count": 33,
     "metadata": {},
     "output_type": "execute_result"
    }
   ],
   "source": [
    "metadata_source = metadata_path\n",
    "\n",
    "\n",
    "source = \"pmdbs\"\n",
    "archive_root = Path.home() / \"Projects/ASAP/asap-crn-metadata/datasets\"\n",
    "dataset_path = archive_root / f\"{team}-{source}-{dataset_name}\"\n",
    "# bucket = f\"asap-raw-data-team-{team}\" # for now old locations\n",
    "metadata_source, dataset_path"
   ]
  },
  {
   "cell_type": "markdown",
   "metadata": {},
   "source": [
    "________"
   ]
  },
  {
   "cell_type": "code",
   "execution_count": 34,
   "metadata": {},
   "outputs": [
    {
     "name": "stdout",
     "output_type": "stream",
     "text": [
      "Skipping empty folder /Users/ergonyc/Projects/ASAP/data/teams/hardy/bulk-rnaseq/metadata/v1\n",
      "Skipping empty folder /Users/ergonyc/Projects/ASAP/data/teams/hardy/bulk-rnaseq/metadata/v2\n",
      "Copied /Users/ergonyc/Projects/ASAP/data/teams/hardy/bulk-rnaseq/metadata/v3 to /Users/ergonyc/Projects/ASAP/asap-crn-metadata/datasets/hardy-pmdbs-bulk-rnaseq/metadata/v3\n",
      "Copied /Users/ergonyc/Projects/ASAP/data/teams/hardy/bulk-rnaseq/metadata/og to /Users/ergonyc/Projects/ASAP/asap-crn-metadata/datasets/hardy-pmdbs-bulk-rnaseq/metadata/og\n",
      "Copied /Users/ergonyc/Projects/ASAP/data/teams/hardy/bulk-rnaseq/metadata/upload to /Users/ergonyc/Projects/ASAP/asap-crn-metadata/datasets/hardy-pmdbs-bulk-rnaseq/metadata/upload\n"
     ]
    }
   ],
   "source": [
    "fnms = create_metadata_package(metadata_source, dataset_path)\n"
   ]
  },
  {
   "cell_type": "markdown",
   "metadata": {},
   "source": [
    "_____\n",
    "\n",
    "generate ASAP IDs + transfering back to raw data bucket via `asap-crn-metadata` "
   ]
  },
  {
   "cell_type": "markdown",
   "metadata": {},
   "source": [
    "_____\n",
    "\n",
    "## transfer metadata to raw data bucket\n",
    "\n",
    "steps:\n",
    "- 1. archive whats there.  i.e. move to metadata/archive\n",
    "- 2. copy package to metadata/ . i.e. /og/*.csv, /v??/*.csv"
   ]
  },
  {
   "cell_type": "markdown",
   "metadata": {},
   "source": [
    "_____\n",
    "\n",
    "## prep metadata in raw data bucket\n",
    "\n",
    "steps:\n",
    "- 1. archive whats there.  i.e. move to metadata/upload\n",
    "- 2. copy metadata/upload to dataset upload (upload subdir)"
   ]
  },
  {
   "cell_type": "code",
   "execution_count": null,
   "metadata": {},
   "outputs": [
    {
     "name": "stdout",
     "output_type": "stream",
     "text": [
      "Copied /Users/ergonyc/Projects/ASAP/data/teams/hardy/sn-rnaseq/metadata/v1 to /Users/ergonyc/Projects/ASAP/asap-crn-metadata/datasets/hardy-pmdbs-sn-rnaseq/metadata/v1\n",
      "Copied /Users/ergonyc/Projects/ASAP/data/teams/hardy/sn-rnaseq/metadata/v2 to /Users/ergonyc/Projects/ASAP/asap-crn-metadata/datasets/hardy-pmdbs-sn-rnaseq/metadata/v2\n",
      "Copied /Users/ergonyc/Projects/ASAP/data/teams/hardy/sn-rnaseq/metadata/v3 to /Users/ergonyc/Projects/ASAP/asap-crn-metadata/datasets/hardy-pmdbs-sn-rnaseq/metadata/v3\n",
      "Copied /Users/ergonyc/Projects/ASAP/data/teams/hardy/sn-rnaseq/metadata/og to /Users/ergonyc/Projects/ASAP/asap-crn-metadata/datasets/hardy-pmdbs-sn-rnaseq/metadata/og\n",
      "Copied /Users/ergonyc/Projects/ASAP/data/teams/hardy/sn-rnaseq/metadata/upload to /Users/ergonyc/Projects/ASAP/asap-crn-metadata/datasets/hardy-pmdbs-sn-rnaseq/metadata/upload\n"
     ]
    }
   ],
   "source": [
    "fnms = create_metadata_package(metadata_source, dataset_path)\n"
   ]
  },
  {
   "cell_type": "markdown",
   "metadata": {},
   "source": [
    "_____\n",
    "\n",
    "generate ASAP IDs + transfering back to raw data bucket via `asap-crn-metadata` "
   ]
  },
  {
   "cell_type": "markdown",
   "metadata": {},
   "source": [
    "_____\n",
    "\n",
    "## transfer metadata to raw data bucket\n",
    "\n",
    "steps:\n",
    "- 1. archive whats there.  i.e. move to metadata/archive\n",
    "- 2. copy package to metadata/ . i.e. /og/*.csv, /v??/*.csv"
   ]
  },
  {
   "cell_type": "code",
   "execution_count": null,
   "metadata": {},
   "outputs": [],
   "source": []
  },
  {
   "cell_type": "markdown",
   "metadata": {},
   "source": [
    "______________"
   ]
  },
  {
   "cell_type": "code",
   "execution_count": null,
   "metadata": {},
   "outputs": [],
   "source": []
  },
  {
   "cell_type": "code",
   "execution_count": null,
   "metadata": {},
   "outputs": [],
   "source": []
  },
  {
   "cell_type": "code",
   "execution_count": null,
   "metadata": {},
   "outputs": [],
   "source": []
  }
 ],
 "metadata": {
  "kernelspec": {
   "display_name": "nb_env",
   "language": "python",
   "name": "python3"
  },
  "language_info": {
   "codemirror_mode": {
    "name": "ipython",
    "version": 3
   },
   "file_extension": ".py",
   "mimetype": "text/x-python",
   "name": "python",
   "nbconvert_exporter": "python",
   "pygments_lexer": "ipython3",
   "version": "3.11.9"
  },
  "orig_nbformat": 4
 },
 "nbformat": 4,
 "nbformat_minor": 2
}
